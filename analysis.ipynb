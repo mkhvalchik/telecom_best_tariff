{
 "cells": [
  {
   "cell_type": "markdown",
   "metadata": {},
   "source": [
    "# Determining a prospective tariff for a telecom company"
   ]
  },
  {
   "cell_type": "markdown",
   "metadata": {},
   "source": [
    "Analysis of \"Megaline\" company's tariffs. Customers are offered two tariff plans: \"Smart\" and \"Ultra\". To adjust the advertising budget, the commercial department wants to understand which plan makes more money. It is necessary to make a preliminary analysis of tariffs on a small sample of clients. Data from 500 \"Megaline\" users are available: who they are, where they come from, what tariff they use, how many calls and messages each sent in 2018. We need to analyze customer behavior and draw a conclusion - which tariff is better.\n",
    "\n",
    "Structure:\n",
    "\n",
    "1. Study of general information\n",
    "2. Preparing data for analysis\n",
    "3. Analyzing data\n",
    "4. Testing of hypotheses\n",
    "5. Conclusion"
   ]
  },
  {
   "cell_type": "markdown",
   "metadata": {},
   "source": [
    "##  General Information"
   ]
  },
  {
   "cell_type": "code",
   "execution_count": 2,
   "metadata": {},
   "outputs": [
    {
     "name": "stdout",
     "output_type": "stream",
     "text": [
      "Defaulting to user installation because normal site-packages is not writeable\n",
      "Collecting seaborn\n",
      "  Downloading seaborn-0.11.2-py3-none-any.whl (292 kB)\n",
      "\u001b[K     |████████████████████████████████| 292 kB 1.2 MB/s eta 0:00:01\n",
      "\u001b[?25hRequirement already satisfied, skipping upgrade: matplotlib>=2.2 in /opt/conda/lib/python3.7/site-packages (from seaborn) (3.1.0)\n",
      "Requirement already satisfied, skipping upgrade: numpy>=1.15 in /opt/conda/lib/python3.7/site-packages (from seaborn) (1.19.5)\n",
      "Requirement already satisfied, skipping upgrade: pandas>=0.23 in /opt/conda/lib/python3.7/site-packages (from seaborn) (0.25.1)\n",
      "Requirement already satisfied, skipping upgrade: scipy>=1.0 in /opt/conda/lib/python3.7/site-packages (from seaborn) (1.4.1)\n",
      "Requirement already satisfied, skipping upgrade: pyparsing!=2.0.4,!=2.1.2,!=2.1.6,>=2.0.1 in /opt/conda/lib/python3.7/site-packages (from matplotlib>=2.2->seaborn) (2.4.7)\n",
      "Requirement already satisfied, skipping upgrade: kiwisolver>=1.0.1 in /opt/conda/lib/python3.7/site-packages (from matplotlib>=2.2->seaborn) (1.3.1)\n",
      "Requirement already satisfied, skipping upgrade: python-dateutil>=2.1 in /opt/conda/lib/python3.7/site-packages (from matplotlib>=2.2->seaborn) (2.8.1)\n",
      "Requirement already satisfied, skipping upgrade: cycler>=0.10 in /opt/conda/lib/python3.7/site-packages (from matplotlib>=2.2->seaborn) (0.10.0)\n",
      "Requirement already satisfied, skipping upgrade: pytz>=2017.2 in /opt/conda/lib/python3.7/site-packages (from pandas>=0.23->seaborn) (2021.1)\n",
      "Requirement already satisfied, skipping upgrade: six>=1.5 in /opt/conda/lib/python3.7/site-packages (from python-dateutil>=2.1->matplotlib>=2.2->seaborn) (1.15.0)\n",
      "Installing collected packages: seaborn\n",
      "Successfully installed seaborn-0.11.2\n"
     ]
    }
   ],
   "source": [
    "import pandas as pd\n",
    "import numpy as np\n",
    "import matplotlib.pyplot as plt\n",
    "!pip install -U seaborn\n",
    "import seaborn as sns\n",
    "sns.set_style(style='darkgrid')\n",
    "from scipy import stats as st\n",
    "from datetime import datetime, date, time\n",
    "import math"
   ]
  },
  {
   "cell_type": "code",
   "execution_count": 20,
   "metadata": {},
   "outputs": [
    {
     "name": "stdout",
     "output_type": "stream",
     "text": [
      "<class 'pandas.core.frame.DataFrame'>\n",
      "RangeIndex: 202607 entries, 0 to 202606\n",
      "Data columns (total 4 columns):\n",
      "id           202607 non-null object\n",
      "call_date    202607 non-null object\n",
      "duration     202607 non-null float64\n",
      "user_id      202607 non-null int64\n",
      "dtypes: float64(1), int64(1), object(2)\n",
      "memory usage: 6.2+ MB\n"
     ]
    },
    {
     "data": {
      "text/html": [
       "<div>\n",
       "<style scoped>\n",
       "    .dataframe tbody tr th:only-of-type {\n",
       "        vertical-align: middle;\n",
       "    }\n",
       "\n",
       "    .dataframe tbody tr th {\n",
       "        vertical-align: top;\n",
       "    }\n",
       "\n",
       "    .dataframe thead th {\n",
       "        text-align: right;\n",
       "    }\n",
       "</style>\n",
       "<table border=\"1\" class=\"dataframe\">\n",
       "  <thead>\n",
       "    <tr style=\"text-align: right;\">\n",
       "      <th></th>\n",
       "      <th>id</th>\n",
       "      <th>call_date</th>\n",
       "      <th>duration</th>\n",
       "      <th>user_id</th>\n",
       "    </tr>\n",
       "  </thead>\n",
       "  <tbody>\n",
       "    <tr>\n",
       "      <td>0</td>\n",
       "      <td>1000_0</td>\n",
       "      <td>2018-07-25</td>\n",
       "      <td>0.00</td>\n",
       "      <td>1000</td>\n",
       "    </tr>\n",
       "    <tr>\n",
       "      <td>1</td>\n",
       "      <td>1000_1</td>\n",
       "      <td>2018-08-17</td>\n",
       "      <td>0.00</td>\n",
       "      <td>1000</td>\n",
       "    </tr>\n",
       "    <tr>\n",
       "      <td>2</td>\n",
       "      <td>1000_2</td>\n",
       "      <td>2018-06-11</td>\n",
       "      <td>2.85</td>\n",
       "      <td>1000</td>\n",
       "    </tr>\n",
       "    <tr>\n",
       "      <td>3</td>\n",
       "      <td>1000_3</td>\n",
       "      <td>2018-09-21</td>\n",
       "      <td>13.80</td>\n",
       "      <td>1000</td>\n",
       "    </tr>\n",
       "    <tr>\n",
       "      <td>4</td>\n",
       "      <td>1000_4</td>\n",
       "      <td>2018-12-15</td>\n",
       "      <td>5.18</td>\n",
       "      <td>1000</td>\n",
       "    </tr>\n",
       "  </tbody>\n",
       "</table>\n",
       "</div>"
      ],
      "text/plain": [
       "       id   call_date  duration  user_id\n",
       "0  1000_0  2018-07-25      0.00     1000\n",
       "1  1000_1  2018-08-17      0.00     1000\n",
       "2  1000_2  2018-06-11      2.85     1000\n",
       "3  1000_3  2018-09-21     13.80     1000\n",
       "4  1000_4  2018-12-15      5.18     1000"
      ]
     },
     "execution_count": 20,
     "metadata": {},
     "output_type": "execute_result"
    }
   ],
   "source": [
    "ds_calls = pd.read_csv('/datasets/calls.csv')\n",
    "ds_calls.describe()\n",
    "ds_calls.info()\n",
    "ds_calls.head()"
   ]
  },
  {
   "cell_type": "code",
   "execution_count": 4,
   "metadata": {},
   "outputs": [
    {
     "name": "stdout",
     "output_type": "stream",
     "text": [
      "<class 'pandas.core.frame.DataFrame'>\n",
      "RangeIndex: 149396 entries, 0 to 149395\n",
      "Data columns (total 5 columns):\n",
      "Unnamed: 0      149396 non-null int64\n",
      "id              149396 non-null object\n",
      "mb_used         149396 non-null float64\n",
      "session_date    149396 non-null object\n",
      "user_id         149396 non-null int64\n",
      "dtypes: float64(1), int64(2), object(2)\n",
      "memory usage: 5.7+ MB\n"
     ]
    },
    {
     "data": {
      "text/html": [
       "<div>\n",
       "<style scoped>\n",
       "    .dataframe tbody tr th:only-of-type {\n",
       "        vertical-align: middle;\n",
       "    }\n",
       "\n",
       "    .dataframe tbody tr th {\n",
       "        vertical-align: top;\n",
       "    }\n",
       "\n",
       "    .dataframe thead th {\n",
       "        text-align: right;\n",
       "    }\n",
       "</style>\n",
       "<table border=\"1\" class=\"dataframe\">\n",
       "  <thead>\n",
       "    <tr style=\"text-align: right;\">\n",
       "      <th></th>\n",
       "      <th>Unnamed: 0</th>\n",
       "      <th>id</th>\n",
       "      <th>mb_used</th>\n",
       "      <th>session_date</th>\n",
       "      <th>user_id</th>\n",
       "    </tr>\n",
       "  </thead>\n",
       "  <tbody>\n",
       "    <tr>\n",
       "      <td>0</td>\n",
       "      <td>0</td>\n",
       "      <td>1000_0</td>\n",
       "      <td>112.95</td>\n",
       "      <td>2018-11-25</td>\n",
       "      <td>1000</td>\n",
       "    </tr>\n",
       "    <tr>\n",
       "      <td>1</td>\n",
       "      <td>1</td>\n",
       "      <td>1000_1</td>\n",
       "      <td>1052.81</td>\n",
       "      <td>2018-09-07</td>\n",
       "      <td>1000</td>\n",
       "    </tr>\n",
       "    <tr>\n",
       "      <td>2</td>\n",
       "      <td>2</td>\n",
       "      <td>1000_2</td>\n",
       "      <td>1197.26</td>\n",
       "      <td>2018-06-25</td>\n",
       "      <td>1000</td>\n",
       "    </tr>\n",
       "    <tr>\n",
       "      <td>3</td>\n",
       "      <td>3</td>\n",
       "      <td>1000_3</td>\n",
       "      <td>550.27</td>\n",
       "      <td>2018-08-22</td>\n",
       "      <td>1000</td>\n",
       "    </tr>\n",
       "    <tr>\n",
       "      <td>4</td>\n",
       "      <td>4</td>\n",
       "      <td>1000_4</td>\n",
       "      <td>302.56</td>\n",
       "      <td>2018-09-24</td>\n",
       "      <td>1000</td>\n",
       "    </tr>\n",
       "  </tbody>\n",
       "</table>\n",
       "</div>"
      ],
      "text/plain": [
       "   Unnamed: 0      id  mb_used session_date  user_id\n",
       "0           0  1000_0   112.95   2018-11-25     1000\n",
       "1           1  1000_1  1052.81   2018-09-07     1000\n",
       "2           2  1000_2  1197.26   2018-06-25     1000\n",
       "3           3  1000_3   550.27   2018-08-22     1000\n",
       "4           4  1000_4   302.56   2018-09-24     1000"
      ]
     },
     "execution_count": 4,
     "metadata": {},
     "output_type": "execute_result"
    }
   ],
   "source": [
    "ds_internet= pd.read_csv('/datasets/internet.csv')\n",
    "ds_internet.info()\n",
    "ds_internet.head()"
   ]
  },
  {
   "cell_type": "code",
   "execution_count": 5,
   "metadata": {},
   "outputs": [
    {
     "name": "stdout",
     "output_type": "stream",
     "text": [
      "<class 'pandas.core.frame.DataFrame'>\n",
      "RangeIndex: 123036 entries, 0 to 123035\n",
      "Data columns (total 3 columns):\n",
      "id              123036 non-null object\n",
      "message_date    123036 non-null object\n",
      "user_id         123036 non-null int64\n",
      "dtypes: int64(1), object(2)\n",
      "memory usage: 2.8+ MB\n"
     ]
    },
    {
     "data": {
      "text/html": [
       "<div>\n",
       "<style scoped>\n",
       "    .dataframe tbody tr th:only-of-type {\n",
       "        vertical-align: middle;\n",
       "    }\n",
       "\n",
       "    .dataframe tbody tr th {\n",
       "        vertical-align: top;\n",
       "    }\n",
       "\n",
       "    .dataframe thead th {\n",
       "        text-align: right;\n",
       "    }\n",
       "</style>\n",
       "<table border=\"1\" class=\"dataframe\">\n",
       "  <thead>\n",
       "    <tr style=\"text-align: right;\">\n",
       "      <th></th>\n",
       "      <th>id</th>\n",
       "      <th>message_date</th>\n",
       "      <th>user_id</th>\n",
       "    </tr>\n",
       "  </thead>\n",
       "  <tbody>\n",
       "    <tr>\n",
       "      <td>0</td>\n",
       "      <td>1000_0</td>\n",
       "      <td>2018-06-27</td>\n",
       "      <td>1000</td>\n",
       "    </tr>\n",
       "    <tr>\n",
       "      <td>1</td>\n",
       "      <td>1000_1</td>\n",
       "      <td>2018-10-08</td>\n",
       "      <td>1000</td>\n",
       "    </tr>\n",
       "    <tr>\n",
       "      <td>2</td>\n",
       "      <td>1000_2</td>\n",
       "      <td>2018-08-04</td>\n",
       "      <td>1000</td>\n",
       "    </tr>\n",
       "    <tr>\n",
       "      <td>3</td>\n",
       "      <td>1000_3</td>\n",
       "      <td>2018-06-16</td>\n",
       "      <td>1000</td>\n",
       "    </tr>\n",
       "    <tr>\n",
       "      <td>4</td>\n",
       "      <td>1000_4</td>\n",
       "      <td>2018-12-05</td>\n",
       "      <td>1000</td>\n",
       "    </tr>\n",
       "  </tbody>\n",
       "</table>\n",
       "</div>"
      ],
      "text/plain": [
       "       id message_date  user_id\n",
       "0  1000_0   2018-06-27     1000\n",
       "1  1000_1   2018-10-08     1000\n",
       "2  1000_2   2018-08-04     1000\n",
       "3  1000_3   2018-06-16     1000\n",
       "4  1000_4   2018-12-05     1000"
      ]
     },
     "execution_count": 5,
     "metadata": {},
     "output_type": "execute_result"
    }
   ],
   "source": [
    "ds_messages = pd.read_csv('/datasets/messages.csv')\n",
    "ds_messages.info()\n",
    "ds_messages.head()"
   ]
  },
  {
   "cell_type": "code",
   "execution_count": 6,
   "metadata": {},
   "outputs": [
    {
     "name": "stdout",
     "output_type": "stream",
     "text": [
      "<class 'pandas.core.frame.DataFrame'>\n",
      "RangeIndex: 2 entries, 0 to 1\n",
      "Data columns (total 8 columns):\n",
      "messages_included        2 non-null int64\n",
      "mb_per_month_included    2 non-null int64\n",
      "minutes_included         2 non-null int64\n",
      "rub_monthly_fee          2 non-null int64\n",
      "rub_per_gb               2 non-null int64\n",
      "rub_per_message          2 non-null int64\n",
      "rub_per_minute           2 non-null int64\n",
      "tariff_name              2 non-null object\n",
      "dtypes: int64(7), object(1)\n",
      "memory usage: 256.0+ bytes\n"
     ]
    },
    {
     "data": {
      "text/html": [
       "<div>\n",
       "<style scoped>\n",
       "    .dataframe tbody tr th:only-of-type {\n",
       "        vertical-align: middle;\n",
       "    }\n",
       "\n",
       "    .dataframe tbody tr th {\n",
       "        vertical-align: top;\n",
       "    }\n",
       "\n",
       "    .dataframe thead th {\n",
       "        text-align: right;\n",
       "    }\n",
       "</style>\n",
       "<table border=\"1\" class=\"dataframe\">\n",
       "  <thead>\n",
       "    <tr style=\"text-align: right;\">\n",
       "      <th></th>\n",
       "      <th>messages_included</th>\n",
       "      <th>mb_per_month_included</th>\n",
       "      <th>minutes_included</th>\n",
       "      <th>rub_monthly_fee</th>\n",
       "      <th>rub_per_gb</th>\n",
       "      <th>rub_per_message</th>\n",
       "      <th>rub_per_minute</th>\n",
       "      <th>tariff_name</th>\n",
       "    </tr>\n",
       "  </thead>\n",
       "  <tbody>\n",
       "    <tr>\n",
       "      <td>0</td>\n",
       "      <td>50</td>\n",
       "      <td>15360</td>\n",
       "      <td>500</td>\n",
       "      <td>550</td>\n",
       "      <td>200</td>\n",
       "      <td>3</td>\n",
       "      <td>3</td>\n",
       "      <td>smart</td>\n",
       "    </tr>\n",
       "    <tr>\n",
       "      <td>1</td>\n",
       "      <td>1000</td>\n",
       "      <td>30720</td>\n",
       "      <td>3000</td>\n",
       "      <td>1950</td>\n",
       "      <td>150</td>\n",
       "      <td>1</td>\n",
       "      <td>1</td>\n",
       "      <td>ultra</td>\n",
       "    </tr>\n",
       "  </tbody>\n",
       "</table>\n",
       "</div>"
      ],
      "text/plain": [
       "   messages_included  mb_per_month_included  minutes_included  \\\n",
       "0                 50                  15360               500   \n",
       "1               1000                  30720              3000   \n",
       "\n",
       "   rub_monthly_fee  rub_per_gb  rub_per_message  rub_per_minute tariff_name  \n",
       "0              550         200                3               3       smart  \n",
       "1             1950         150                1               1       ultra  "
      ]
     },
     "execution_count": 6,
     "metadata": {},
     "output_type": "execute_result"
    }
   ],
   "source": [
    "ds_tariffs = pd.read_csv('/datasets/tariffs.csv')\n",
    "ds_tariffs.info()\n",
    "ds_tariffs.head()"
   ]
  },
  {
   "cell_type": "code",
   "execution_count": 7,
   "metadata": {},
   "outputs": [
    {
     "name": "stdout",
     "output_type": "stream",
     "text": [
      "<class 'pandas.core.frame.DataFrame'>\n",
      "RangeIndex: 500 entries, 0 to 499\n",
      "Data columns (total 8 columns):\n",
      "user_id       500 non-null int64\n",
      "age           500 non-null int64\n",
      "churn_date    38 non-null object\n",
      "city          500 non-null object\n",
      "first_name    500 non-null object\n",
      "last_name     500 non-null object\n",
      "reg_date      500 non-null object\n",
      "tariff        500 non-null object\n",
      "dtypes: int64(2), object(6)\n",
      "memory usage: 31.4+ KB\n"
     ]
    },
    {
     "data": {
      "text/html": [
       "<div>\n",
       "<style scoped>\n",
       "    .dataframe tbody tr th:only-of-type {\n",
       "        vertical-align: middle;\n",
       "    }\n",
       "\n",
       "    .dataframe tbody tr th {\n",
       "        vertical-align: top;\n",
       "    }\n",
       "\n",
       "    .dataframe thead th {\n",
       "        text-align: right;\n",
       "    }\n",
       "</style>\n",
       "<table border=\"1\" class=\"dataframe\">\n",
       "  <thead>\n",
       "    <tr style=\"text-align: right;\">\n",
       "      <th></th>\n",
       "      <th>user_id</th>\n",
       "      <th>age</th>\n",
       "      <th>churn_date</th>\n",
       "      <th>city</th>\n",
       "      <th>first_name</th>\n",
       "      <th>last_name</th>\n",
       "      <th>reg_date</th>\n",
       "      <th>tariff</th>\n",
       "    </tr>\n",
       "  </thead>\n",
       "  <tbody>\n",
       "    <tr>\n",
       "      <td>0</td>\n",
       "      <td>1000</td>\n",
       "      <td>52</td>\n",
       "      <td>NaN</td>\n",
       "      <td>Краснодар</td>\n",
       "      <td>Рафаил</td>\n",
       "      <td>Верещагин</td>\n",
       "      <td>2018-05-25</td>\n",
       "      <td>ultra</td>\n",
       "    </tr>\n",
       "    <tr>\n",
       "      <td>1</td>\n",
       "      <td>1001</td>\n",
       "      <td>41</td>\n",
       "      <td>NaN</td>\n",
       "      <td>Москва</td>\n",
       "      <td>Иван</td>\n",
       "      <td>Ежов</td>\n",
       "      <td>2018-11-01</td>\n",
       "      <td>smart</td>\n",
       "    </tr>\n",
       "    <tr>\n",
       "      <td>2</td>\n",
       "      <td>1002</td>\n",
       "      <td>59</td>\n",
       "      <td>NaN</td>\n",
       "      <td>Стерлитамак</td>\n",
       "      <td>Евгений</td>\n",
       "      <td>Абрамович</td>\n",
       "      <td>2018-06-17</td>\n",
       "      <td>smart</td>\n",
       "    </tr>\n",
       "    <tr>\n",
       "      <td>3</td>\n",
       "      <td>1003</td>\n",
       "      <td>23</td>\n",
       "      <td>NaN</td>\n",
       "      <td>Москва</td>\n",
       "      <td>Белла</td>\n",
       "      <td>Белякова</td>\n",
       "      <td>2018-08-17</td>\n",
       "      <td>ultra</td>\n",
       "    </tr>\n",
       "    <tr>\n",
       "      <td>4</td>\n",
       "      <td>1004</td>\n",
       "      <td>68</td>\n",
       "      <td>NaN</td>\n",
       "      <td>Новокузнецк</td>\n",
       "      <td>Татьяна</td>\n",
       "      <td>Авдеенко</td>\n",
       "      <td>2018-05-14</td>\n",
       "      <td>ultra</td>\n",
       "    </tr>\n",
       "  </tbody>\n",
       "</table>\n",
       "</div>"
      ],
      "text/plain": [
       "   user_id  age churn_date         city first_name  last_name    reg_date  \\\n",
       "0     1000   52        NaN    Краснодар     Рафаил  Верещагин  2018-05-25   \n",
       "1     1001   41        NaN       Москва       Иван       Ежов  2018-11-01   \n",
       "2     1002   59        NaN  Стерлитамак    Евгений  Абрамович  2018-06-17   \n",
       "3     1003   23        NaN       Москва      Белла   Белякова  2018-08-17   \n",
       "4     1004   68        NaN  Новокузнецк    Татьяна   Авдеенко  2018-05-14   \n",
       "\n",
       "  tariff  \n",
       "0  ultra  \n",
       "1  smart  \n",
       "2  smart  \n",
       "3  ultra  \n",
       "4  ultra  "
      ]
     },
     "execution_count": 7,
     "metadata": {},
     "output_type": "execute_result"
    }
   ],
   "source": [
    "ds_users = pd.read_csv('/datasets/users.csv')\n",
    "ds_users.info()\n",
    "ds_users.head()"
   ]
  },
  {
   "cell_type": "markdown",
   "metadata": {},
   "source": [
    "There are 5 arrays: calls, internet and messages, which contain information on subscriber activity: calls, internet usage and sending messages. Tariffs present the terms of tariffs, and users present the key information about the subscribers. The number of observations differs in each ds, which indicates a different number of observations by activity. Let's first consider the largest dataset - calls"
   ]
  },
  {
   "cell_type": "markdown",
   "metadata": {},
   "source": [
    "##  Preprocessing"
   ]
  },
  {
   "cell_type": "markdown",
   "metadata": {},
   "source": [
    "In this section we will process the data to get a summary table. Also, find the number of calls made and minutes spent by month, the number of messages sent by month, and the amount of Internet traffic used by month"
   ]
  },
  {
   "cell_type": "code",
   "execution_count": 7,
   "metadata": {
    "scrolled": true
   },
   "outputs": [
    {
     "data": {
      "text/plain": [
       "<matplotlib.axes._subplots.AxesSubplot at 0x7f5f147defd0>"
      ]
     },
     "execution_count": 7,
     "metadata": {},
     "output_type": "execute_result"
    },
    {
     "data": {
      "image/png": "[encoded data removed]",
      "text/plain": [
       "<Figure size 432x288 with 1 Axes>"
      ]
     },
     "metadata": {},
     "output_type": "display_data"
    }
   ],
   "source": [
    "ds_calls.boxplot('duration');"
   ]
  },
  {
   "cell_type": "code",
   "execution_count": 8,
   "metadata": {},
   "outputs": [
    {
     "data": {
      "image/png": "[encoded data removed]",
      "text/plain": [
       "<Figure size 432x288 with 1 Axes>"
      ]
     },
     "metadata": {},
     "output_type": "display_data"
    }
   ],
   "source": [
    "ds_calls['duration'].hist(bins=50,range=(0,38));"
   ]
  },
  {
   "cell_type": "markdown",
   "metadata": {},
   "source": [
    "Regarding the duration of the calls, there is a large number of zero values (>40k), we can assume that these were missed calls and do not need to take them into account in the calculations. \n",
    "\n",
    "We need to convert the date to the right type, to allocate the month as a separate variable and generate a pivot table after processing"
   ]
  },
  {
   "cell_type": "code",
   "execution_count": 9,
   "metadata": {},
   "outputs": [
    {
     "data": {
      "text/html": [
       "<div>\n",
       "<style scoped>\n",
       "    .dataframe tbody tr th:only-of-type {\n",
       "        vertical-align: middle;\n",
       "    }\n",
       "\n",
       "    .dataframe tbody tr th {\n",
       "        vertical-align: top;\n",
       "    }\n",
       "\n",
       "    .dataframe thead th {\n",
       "        text-align: right;\n",
       "    }\n",
       "</style>\n",
       "<table border=\"1\" class=\"dataframe\">\n",
       "  <thead>\n",
       "    <tr style=\"text-align: right;\">\n",
       "      <th></th>\n",
       "      <th>user_id</th>\n",
       "      <th>month</th>\n",
       "      <th>calls_per_month</th>\n",
       "      <th>min_per_month</th>\n",
       "    </tr>\n",
       "  </thead>\n",
       "  <tbody>\n",
       "    <tr>\n",
       "      <td>0</td>\n",
       "      <td>1000</td>\n",
       "      <td>5</td>\n",
       "      <td>22</td>\n",
       "      <td>142</td>\n",
       "    </tr>\n",
       "    <tr>\n",
       "      <td>1</td>\n",
       "      <td>1000</td>\n",
       "      <td>6</td>\n",
       "      <td>43</td>\n",
       "      <td>144</td>\n",
       "    </tr>\n",
       "    <tr>\n",
       "      <td>2</td>\n",
       "      <td>1000</td>\n",
       "      <td>7</td>\n",
       "      <td>47</td>\n",
       "      <td>299</td>\n",
       "    </tr>\n",
       "    <tr>\n",
       "      <td>3</td>\n",
       "      <td>1000</td>\n",
       "      <td>8</td>\n",
       "      <td>52</td>\n",
       "      <td>367</td>\n",
       "    </tr>\n",
       "    <tr>\n",
       "      <td>4</td>\n",
       "      <td>1000</td>\n",
       "      <td>9</td>\n",
       "      <td>58</td>\n",
       "      <td>421</td>\n",
       "    </tr>\n",
       "  </tbody>\n",
       "</table>\n",
       "</div>"
      ],
      "text/plain": [
       "   user_id  month  calls_per_month  min_per_month\n",
       "0     1000      5               22            142\n",
       "1     1000      6               43            144\n",
       "2     1000      7               47            299\n",
       "3     1000      8               52            367\n",
       "4     1000      9               58            421"
      ]
     },
     "execution_count": 9,
     "metadata": {},
     "output_type": "execute_result"
    }
   ],
   "source": [
    "ds_calls['duration'].apply(np.ceil)\n",
    "ds_calls['duration'] = ds_calls['duration'].astype('int')\n",
    "#ds_calls = ds_calls.loc[calls['duration'] != 0]\n",
    "\n",
    "ds_calls['call_date'] = pd.to_datetime(ds_calls['call_date'], format='%Y-%m-%d')\n",
    "ds_calls['month'] = pd.DatetimeIndex(ds_calls['call_date']).month\n",
    "ds_calls_p = ds_calls.pivot_table(index=('user_id','month'),values='duration',aggfunc=('sum','count'))\n",
    "ds_calls_group = pd.DataFrame(ds_calls_p.to_records())\n",
    "ds_calls_group = ds_calls_group.rename(columns={'count': 'calls_per_month', 'sum': 'min_per_month'})\n",
    "ds_calls_group.head()"
   ]
  },
  {
   "cell_type": "code",
   "execution_count": 10,
   "metadata": {},
   "outputs": [
    {
     "data": {
      "text/plain": [
       "<matplotlib.axes._subplots.AxesSubplot at 0x7f5ef6b37e90>"
      ]
     },
     "execution_count": 10,
     "metadata": {},
     "output_type": "execute_result"
    },
    {
     "data": {
      "image/png": "[encoded data removed]",
      "text/plain": [
       "<Figure size 432x288 with 1 Axes>"
      ]
     },
     "metadata": {},
     "output_type": "display_data"
    }
   ],
   "source": [
    "ds_internet['mb_used'].hist(bins=50,range=(0,1500))"
   ]
  },
  {
   "cell_type": "code",
   "execution_count": 11,
   "metadata": {},
   "outputs": [
    {
     "data": {
      "text/html": [
       "<div>\n",
       "<style scoped>\n",
       "    .dataframe tbody tr th:only-of-type {\n",
       "        vertical-align: middle;\n",
       "    }\n",
       "\n",
       "    .dataframe tbody tr th {\n",
       "        vertical-align: top;\n",
       "    }\n",
       "\n",
       "    .dataframe thead th {\n",
       "        text-align: right;\n",
       "    }\n",
       "</style>\n",
       "<table border=\"1\" class=\"dataframe\">\n",
       "  <thead>\n",
       "    <tr style=\"text-align: right;\">\n",
       "      <th></th>\n",
       "      <th>user_id</th>\n",
       "      <th>month</th>\n",
       "      <th>ses_per_month</th>\n",
       "      <th>mb_per_month</th>\n",
       "    </tr>\n",
       "  </thead>\n",
       "  <tbody>\n",
       "    <tr>\n",
       "      <td>0</td>\n",
       "      <td>1000</td>\n",
       "      <td>5</td>\n",
       "      <td>5</td>\n",
       "      <td>2252</td>\n",
       "    </tr>\n",
       "    <tr>\n",
       "      <td>1</td>\n",
       "      <td>1000</td>\n",
       "      <td>6</td>\n",
       "      <td>49</td>\n",
       "      <td>23213</td>\n",
       "    </tr>\n",
       "    <tr>\n",
       "      <td>2</td>\n",
       "      <td>1000</td>\n",
       "      <td>7</td>\n",
       "      <td>29</td>\n",
       "      <td>13988</td>\n",
       "    </tr>\n",
       "    <tr>\n",
       "      <td>3</td>\n",
       "      <td>1000</td>\n",
       "      <td>8</td>\n",
       "      <td>29</td>\n",
       "      <td>14043</td>\n",
       "    </tr>\n",
       "    <tr>\n",
       "      <td>4</td>\n",
       "      <td>1000</td>\n",
       "      <td>9</td>\n",
       "      <td>27</td>\n",
       "      <td>14556</td>\n",
       "    </tr>\n",
       "  </tbody>\n",
       "</table>\n",
       "</div>"
      ],
      "text/plain": [
       "   user_id  month  ses_per_month  mb_per_month\n",
       "0     1000      5              5          2252\n",
       "1     1000      6             49         23213\n",
       "2     1000      7             29         13988\n",
       "3     1000      8             29         14043\n",
       "4     1000      9             27         14556"
      ]
     },
     "execution_count": 11,
     "metadata": {},
     "output_type": "execute_result"
    }
   ],
   "source": [
    "ds_internet['mb_used'].apply(np.ceil)\n",
    "ds_internet['mb_used'] = ds_internet['mb_used'].astype('int')\n",
    "#ds_internet = ds_internet.loc[ds_internet['mb_used'] != 0]\n",
    "\n",
    "ds_internet['session_date'] = pd.to_datetime(ds_internet['session_date'], format='%Y-%m-%d')\n",
    "ds_internet['month'] = pd.DatetimeIndex(ds_internet['session_date']).month\n",
    "ds_internet_p = ds_internet.pivot_table(index=('user_id','month'),values='mb_used',aggfunc=('sum','count'))\n",
    "ds_internet_group = pd.DataFrame(ds_internet_p.to_records())\n",
    "ds_internet_group = ds_internet_group.rename(columns={'count': 'ses_per_month', 'sum': 'mb_per_month'})\n",
    "ds_internet_group.head()"
   ]
  },
  {
   "cell_type": "code",
   "execution_count": 12,
   "metadata": {},
   "outputs": [
    {
     "data": {
      "text/plain": [
       "<matplotlib.axes._subplots.AxesSubplot at 0x7f5efaae6850>"
      ]
     },
     "execution_count": 12,
     "metadata": {},
     "output_type": "execute_result"
    },
    {
     "data": {
      "image/png": "[encoded data removed]",
      "text/plain": [
       "<Figure size 432x288 with 1 Axes>"
      ]
     },
     "metadata": {},
     "output_type": "display_data"
    }
   ],
   "source": [
    "ds_messages['user_id'].hist(bins=50,range=(900,1600))"
   ]
  },
  {
   "cell_type": "code",
   "execution_count": 13,
   "metadata": {},
   "outputs": [
    {
     "data": {
      "text/html": [
       "<div>\n",
       "<style scoped>\n",
       "    .dataframe tbody tr th:only-of-type {\n",
       "        vertical-align: middle;\n",
       "    }\n",
       "\n",
       "    .dataframe tbody tr th {\n",
       "        vertical-align: top;\n",
       "    }\n",
       "\n",
       "    .dataframe thead th {\n",
       "        text-align: right;\n",
       "    }\n",
       "</style>\n",
       "<table border=\"1\" class=\"dataframe\">\n",
       "  <thead>\n",
       "    <tr style=\"text-align: right;\">\n",
       "      <th></th>\n",
       "      <th>user_id</th>\n",
       "      <th>month</th>\n",
       "      <th>mes_per_month</th>\n",
       "    </tr>\n",
       "  </thead>\n",
       "  <tbody>\n",
       "    <tr>\n",
       "      <td>0</td>\n",
       "      <td>1000</td>\n",
       "      <td>5</td>\n",
       "      <td>22</td>\n",
       "    </tr>\n",
       "    <tr>\n",
       "      <td>1</td>\n",
       "      <td>1000</td>\n",
       "      <td>6</td>\n",
       "      <td>60</td>\n",
       "    </tr>\n",
       "    <tr>\n",
       "      <td>2</td>\n",
       "      <td>1000</td>\n",
       "      <td>7</td>\n",
       "      <td>75</td>\n",
       "    </tr>\n",
       "    <tr>\n",
       "      <td>3</td>\n",
       "      <td>1000</td>\n",
       "      <td>8</td>\n",
       "      <td>81</td>\n",
       "    </tr>\n",
       "    <tr>\n",
       "      <td>4</td>\n",
       "      <td>1000</td>\n",
       "      <td>9</td>\n",
       "      <td>57</td>\n",
       "    </tr>\n",
       "  </tbody>\n",
       "</table>\n",
       "</div>"
      ],
      "text/plain": [
       "   user_id  month  mes_per_month\n",
       "0     1000      5             22\n",
       "1     1000      6             60\n",
       "2     1000      7             75\n",
       "3     1000      8             81\n",
       "4     1000      9             57"
      ]
     },
     "execution_count": 13,
     "metadata": {},
     "output_type": "execute_result"
    }
   ],
   "source": [
    "ds_messages['message_date'] = pd.to_datetime(ds_messages['message_date'], format='%Y-%m-%d')\n",
    "ds_messages['month'] = pd.DatetimeIndex(ds_messages['message_date']).month\n",
    "ds_messages_p = ds_messages.pivot_table(index=('user_id','month'),values='message_date',aggfunc=('count'))\n",
    "ds_messages_group = pd.DataFrame(ds_messages_p.to_records())\n",
    "ds_messages_group = ds_messages_group.rename(columns={'message_date': 'mes_per_month'})\n",
    "ds_messages_group.head()"
   ]
  },
  {
   "cell_type": "code",
   "execution_count": 14,
   "metadata": {},
   "outputs": [
    {
     "data": {
      "text/html": [
       "<div>\n",
       "<style scoped>\n",
       "    .dataframe tbody tr th:only-of-type {\n",
       "        vertical-align: middle;\n",
       "    }\n",
       "\n",
       "    .dataframe tbody tr th {\n",
       "        vertical-align: top;\n",
       "    }\n",
       "\n",
       "    .dataframe thead th {\n",
       "        text-align: right;\n",
       "    }\n",
       "</style>\n",
       "<table border=\"1\" class=\"dataframe\">\n",
       "  <thead>\n",
       "    <tr style=\"text-align: right;\">\n",
       "      <th></th>\n",
       "      <th>messages_included</th>\n",
       "      <th>mb_per_month_included</th>\n",
       "      <th>minutes_included</th>\n",
       "      <th>rub_monthly_fee</th>\n",
       "      <th>rub_per_gb</th>\n",
       "      <th>rub_per_message</th>\n",
       "      <th>rub_per_minute</th>\n",
       "      <th>tariff_name</th>\n",
       "    </tr>\n",
       "  </thead>\n",
       "  <tbody>\n",
       "    <tr>\n",
       "      <td>0</td>\n",
       "      <td>50</td>\n",
       "      <td>15360</td>\n",
       "      <td>500</td>\n",
       "      <td>550</td>\n",
       "      <td>200</td>\n",
       "      <td>3</td>\n",
       "      <td>3</td>\n",
       "      <td>smart</td>\n",
       "    </tr>\n",
       "    <tr>\n",
       "      <td>1</td>\n",
       "      <td>1000</td>\n",
       "      <td>30720</td>\n",
       "      <td>3000</td>\n",
       "      <td>1950</td>\n",
       "      <td>150</td>\n",
       "      <td>1</td>\n",
       "      <td>1</td>\n",
       "      <td>ultra</td>\n",
       "    </tr>\n",
       "  </tbody>\n",
       "</table>\n",
       "</div>"
      ],
      "text/plain": [
       "   messages_included  mb_per_month_included  minutes_included  \\\n",
       "0                 50                  15360               500   \n",
       "1               1000                  30720              3000   \n",
       "\n",
       "   rub_monthly_fee  rub_per_gb  rub_per_message  rub_per_minute tariff_name  \n",
       "0              550         200                3               3       smart  \n",
       "1             1950         150                1               1       ultra  "
      ]
     },
     "execution_count": 14,
     "metadata": {},
     "output_type": "execute_result"
    }
   ],
   "source": [
    "ds_tariffs.head()"
   ]
  },
  {
   "cell_type": "code",
   "execution_count": 15,
   "metadata": {
    "scrolled": false
   },
   "outputs": [
    {
     "data": {
      "text/html": [
       "<div>\n",
       "<style scoped>\n",
       "    .dataframe tbody tr th:only-of-type {\n",
       "        vertical-align: middle;\n",
       "    }\n",
       "\n",
       "    .dataframe tbody tr th {\n",
       "        vertical-align: top;\n",
       "    }\n",
       "\n",
       "    .dataframe thead th {\n",
       "        text-align: right;\n",
       "    }\n",
       "</style>\n",
       "<table border=\"1\" class=\"dataframe\">\n",
       "  <thead>\n",
       "    <tr style=\"text-align: right;\">\n",
       "      <th></th>\n",
       "      <th>messages_included</th>\n",
       "      <th>mb_per_month_included</th>\n",
       "      <th>minutes_included</th>\n",
       "      <th>rub_monthly_fee</th>\n",
       "      <th>rub_per_gb</th>\n",
       "      <th>rub_per_message</th>\n",
       "      <th>rub_per_minute</th>\n",
       "      <th>tariff</th>\n",
       "    </tr>\n",
       "  </thead>\n",
       "  <tbody>\n",
       "    <tr>\n",
       "      <td>0</td>\n",
       "      <td>50</td>\n",
       "      <td>15360</td>\n",
       "      <td>500</td>\n",
       "      <td>550</td>\n",
       "      <td>200</td>\n",
       "      <td>3</td>\n",
       "      <td>3</td>\n",
       "      <td>smart</td>\n",
       "    </tr>\n",
       "    <tr>\n",
       "      <td>1</td>\n",
       "      <td>1000</td>\n",
       "      <td>30720</td>\n",
       "      <td>3000</td>\n",
       "      <td>1950</td>\n",
       "      <td>150</td>\n",
       "      <td>1</td>\n",
       "      <td>1</td>\n",
       "      <td>ultra</td>\n",
       "    </tr>\n",
       "  </tbody>\n",
       "</table>\n",
       "</div>"
      ],
      "text/plain": [
       "   messages_included  mb_per_month_included  minutes_included  \\\n",
       "0                 50                  15360               500   \n",
       "1               1000                  30720              3000   \n",
       "\n",
       "   rub_monthly_fee  rub_per_gb  rub_per_message  rub_per_minute tariff  \n",
       "0              550         200                3               3  smart  \n",
       "1             1950         150                1               1  ultra  "
      ]
     },
     "execution_count": 15,
     "metadata": {},
     "output_type": "execute_result"
    }
   ],
   "source": [
    "ds_tariffs = ds_tariffs.rename(columns={'tariff_name': 'tariff'})\n",
    "ds_tariffs.head()"
   ]
  },
  {
   "cell_type": "markdown",
   "metadata": {},
   "source": [
    "Объеденим переменные в одну таблицу и избавимся от переменных, которые не влияют на анализ, например имя и фамилия"
   ]
  },
  {
   "cell_type": "code",
   "execution_count": 16,
   "metadata": {},
   "outputs": [
    {
     "data": {
      "text/html": [
       "<div>\n",
       "<style scoped>\n",
       "    .dataframe tbody tr th:only-of-type {\n",
       "        vertical-align: middle;\n",
       "    }\n",
       "\n",
       "    .dataframe tbody tr th {\n",
       "        vertical-align: top;\n",
       "    }\n",
       "\n",
       "    .dataframe thead th {\n",
       "        text-align: right;\n",
       "    }\n",
       "</style>\n",
       "<table border=\"1\" class=\"dataframe\">\n",
       "  <thead>\n",
       "    <tr style=\"text-align: right;\">\n",
       "      <th></th>\n",
       "      <th>user_id</th>\n",
       "      <th>age</th>\n",
       "      <th>churn_date</th>\n",
       "      <th>city</th>\n",
       "      <th>first_name</th>\n",
       "      <th>last_name</th>\n",
       "      <th>reg_date</th>\n",
       "      <th>tariff</th>\n",
       "    </tr>\n",
       "  </thead>\n",
       "  <tbody>\n",
       "    <tr>\n",
       "      <td>0</td>\n",
       "      <td>1000</td>\n",
       "      <td>52</td>\n",
       "      <td>0</td>\n",
       "      <td>Краснодар</td>\n",
       "      <td>Рафаил</td>\n",
       "      <td>Верещагин</td>\n",
       "      <td>2018-05-25</td>\n",
       "      <td>ultra</td>\n",
       "    </tr>\n",
       "    <tr>\n",
       "      <td>1</td>\n",
       "      <td>1001</td>\n",
       "      <td>41</td>\n",
       "      <td>0</td>\n",
       "      <td>Москва</td>\n",
       "      <td>Иван</td>\n",
       "      <td>Ежов</td>\n",
       "      <td>2018-11-01</td>\n",
       "      <td>smart</td>\n",
       "    </tr>\n",
       "    <tr>\n",
       "      <td>2</td>\n",
       "      <td>1002</td>\n",
       "      <td>59</td>\n",
       "      <td>0</td>\n",
       "      <td>Стерлитамак</td>\n",
       "      <td>Евгений</td>\n",
       "      <td>Абрамович</td>\n",
       "      <td>2018-06-17</td>\n",
       "      <td>smart</td>\n",
       "    </tr>\n",
       "    <tr>\n",
       "      <td>3</td>\n",
       "      <td>1003</td>\n",
       "      <td>23</td>\n",
       "      <td>0</td>\n",
       "      <td>Москва</td>\n",
       "      <td>Белла</td>\n",
       "      <td>Белякова</td>\n",
       "      <td>2018-08-17</td>\n",
       "      <td>ultra</td>\n",
       "    </tr>\n",
       "    <tr>\n",
       "      <td>4</td>\n",
       "      <td>1004</td>\n",
       "      <td>68</td>\n",
       "      <td>0</td>\n",
       "      <td>Новокузнецк</td>\n",
       "      <td>Татьяна</td>\n",
       "      <td>Авдеенко</td>\n",
       "      <td>2018-05-14</td>\n",
       "      <td>ultra</td>\n",
       "    </tr>\n",
       "  </tbody>\n",
       "</table>\n",
       "</div>"
      ],
      "text/plain": [
       "   user_id  age churn_date         city first_name  last_name    reg_date  \\\n",
       "0     1000   52          0    Краснодар     Рафаил  Верещагин  2018-05-25   \n",
       "1     1001   41          0       Москва       Иван       Ежов  2018-11-01   \n",
       "2     1002   59          0  Стерлитамак    Евгений  Абрамович  2018-06-17   \n",
       "3     1003   23          0       Москва      Белла   Белякова  2018-08-17   \n",
       "4     1004   68          0  Новокузнецк    Татьяна   Авдеенко  2018-05-14   \n",
       "\n",
       "  tariff  \n",
       "0  ultra  \n",
       "1  smart  \n",
       "2  smart  \n",
       "3  ultra  \n",
       "4  ultra  "
      ]
     },
     "execution_count": 16,
     "metadata": {},
     "output_type": "execute_result"
    }
   ],
   "source": [
    "ds_users['churn_date'].fillna(0,inplace=True)                    \n",
    "ds_users.head()"
   ]
  },
  {
   "cell_type": "code",
   "execution_count": 17,
   "metadata": {},
   "outputs": [
    {
     "data": {
      "text/html": [
       "<div>\n",
       "<style scoped>\n",
       "    .dataframe tbody tr th:only-of-type {\n",
       "        vertical-align: middle;\n",
       "    }\n",
       "\n",
       "    .dataframe tbody tr th {\n",
       "        vertical-align: top;\n",
       "    }\n",
       "\n",
       "    .dataframe thead th {\n",
       "        text-align: right;\n",
       "    }\n",
       "</style>\n",
       "<table border=\"1\" class=\"dataframe\">\n",
       "  <thead>\n",
       "    <tr style=\"text-align: right;\">\n",
       "      <th></th>\n",
       "      <th>0</th>\n",
       "      <th>1</th>\n",
       "      <th>2</th>\n",
       "      <th>3</th>\n",
       "      <th>4</th>\n",
       "    </tr>\n",
       "  </thead>\n",
       "  <tbody>\n",
       "    <tr>\n",
       "      <td>user_id</td>\n",
       "      <td>1000</td>\n",
       "      <td>1000</td>\n",
       "      <td>1000</td>\n",
       "      <td>1000</td>\n",
       "      <td>1000</td>\n",
       "    </tr>\n",
       "    <tr>\n",
       "      <td>churn_date</td>\n",
       "      <td>0</td>\n",
       "      <td>0</td>\n",
       "      <td>0</td>\n",
       "      <td>0</td>\n",
       "      <td>0</td>\n",
       "    </tr>\n",
       "    <tr>\n",
       "      <td>city</td>\n",
       "      <td>Краснодар</td>\n",
       "      <td>Краснодар</td>\n",
       "      <td>Краснодар</td>\n",
       "      <td>Краснодар</td>\n",
       "      <td>Краснодар</td>\n",
       "    </tr>\n",
       "    <tr>\n",
       "      <td>reg_date</td>\n",
       "      <td>2018-05-25</td>\n",
       "      <td>2018-05-25</td>\n",
       "      <td>2018-05-25</td>\n",
       "      <td>2018-05-25</td>\n",
       "      <td>2018-05-25</td>\n",
       "    </tr>\n",
       "    <tr>\n",
       "      <td>tariff</td>\n",
       "      <td>ultra</td>\n",
       "      <td>ultra</td>\n",
       "      <td>ultra</td>\n",
       "      <td>ultra</td>\n",
       "      <td>ultra</td>\n",
       "    </tr>\n",
       "    <tr>\n",
       "      <td>messages_included</td>\n",
       "      <td>1000</td>\n",
       "      <td>1000</td>\n",
       "      <td>1000</td>\n",
       "      <td>1000</td>\n",
       "      <td>1000</td>\n",
       "    </tr>\n",
       "    <tr>\n",
       "      <td>mb_per_month_included</td>\n",
       "      <td>30720</td>\n",
       "      <td>30720</td>\n",
       "      <td>30720</td>\n",
       "      <td>30720</td>\n",
       "      <td>30720</td>\n",
       "    </tr>\n",
       "    <tr>\n",
       "      <td>minutes_included</td>\n",
       "      <td>3000</td>\n",
       "      <td>3000</td>\n",
       "      <td>3000</td>\n",
       "      <td>3000</td>\n",
       "      <td>3000</td>\n",
       "    </tr>\n",
       "    <tr>\n",
       "      <td>rub_monthly_fee</td>\n",
       "      <td>1950</td>\n",
       "      <td>1950</td>\n",
       "      <td>1950</td>\n",
       "      <td>1950</td>\n",
       "      <td>1950</td>\n",
       "    </tr>\n",
       "    <tr>\n",
       "      <td>rub_per_gb</td>\n",
       "      <td>150</td>\n",
       "      <td>150</td>\n",
       "      <td>150</td>\n",
       "      <td>150</td>\n",
       "      <td>150</td>\n",
       "    </tr>\n",
       "    <tr>\n",
       "      <td>rub_per_message</td>\n",
       "      <td>1</td>\n",
       "      <td>1</td>\n",
       "      <td>1</td>\n",
       "      <td>1</td>\n",
       "      <td>1</td>\n",
       "    </tr>\n",
       "    <tr>\n",
       "      <td>rub_per_minute</td>\n",
       "      <td>1</td>\n",
       "      <td>1</td>\n",
       "      <td>1</td>\n",
       "      <td>1</td>\n",
       "      <td>1</td>\n",
       "    </tr>\n",
       "    <tr>\n",
       "      <td>month</td>\n",
       "      <td>5</td>\n",
       "      <td>6</td>\n",
       "      <td>7</td>\n",
       "      <td>8</td>\n",
       "      <td>9</td>\n",
       "    </tr>\n",
       "    <tr>\n",
       "      <td>calls_per_month</td>\n",
       "      <td>22</td>\n",
       "      <td>43</td>\n",
       "      <td>47</td>\n",
       "      <td>52</td>\n",
       "      <td>58</td>\n",
       "    </tr>\n",
       "    <tr>\n",
       "      <td>min_per_month</td>\n",
       "      <td>142</td>\n",
       "      <td>144</td>\n",
       "      <td>299</td>\n",
       "      <td>367</td>\n",
       "      <td>421</td>\n",
       "    </tr>\n",
       "    <tr>\n",
       "      <td>ses_per_month</td>\n",
       "      <td>5</td>\n",
       "      <td>49</td>\n",
       "      <td>29</td>\n",
       "      <td>29</td>\n",
       "      <td>27</td>\n",
       "    </tr>\n",
       "    <tr>\n",
       "      <td>mb_per_month</td>\n",
       "      <td>2252</td>\n",
       "      <td>23213</td>\n",
       "      <td>13988</td>\n",
       "      <td>14043</td>\n",
       "      <td>14556</td>\n",
       "    </tr>\n",
       "    <tr>\n",
       "      <td>mes_per_month</td>\n",
       "      <td>22</td>\n",
       "      <td>60</td>\n",
       "      <td>75</td>\n",
       "      <td>81</td>\n",
       "      <td>57</td>\n",
       "    </tr>\n",
       "  </tbody>\n",
       "</table>\n",
       "</div>"
      ],
      "text/plain": [
       "                                0           1           2           3  \\\n",
       "user_id                      1000        1000        1000        1000   \n",
       "churn_date                      0           0           0           0   \n",
       "city                    Краснодар   Краснодар   Краснодар   Краснодар   \n",
       "reg_date               2018-05-25  2018-05-25  2018-05-25  2018-05-25   \n",
       "tariff                      ultra       ultra       ultra       ultra   \n",
       "messages_included            1000        1000        1000        1000   \n",
       "mb_per_month_included       30720       30720       30720       30720   \n",
       "minutes_included             3000        3000        3000        3000   \n",
       "rub_monthly_fee              1950        1950        1950        1950   \n",
       "rub_per_gb                    150         150         150         150   \n",
       "rub_per_message                 1           1           1           1   \n",
       "rub_per_minute                  1           1           1           1   \n",
       "month                           5           6           7           8   \n",
       "calls_per_month                22          43          47          52   \n",
       "min_per_month                 142         144         299         367   \n",
       "ses_per_month                   5          49          29          29   \n",
       "mb_per_month                 2252       23213       13988       14043   \n",
       "mes_per_month                  22          60          75          81   \n",
       "\n",
       "                                4  \n",
       "user_id                      1000  \n",
       "churn_date                      0  \n",
       "city                    Краснодар  \n",
       "reg_date               2018-05-25  \n",
       "tariff                      ultra  \n",
       "messages_included            1000  \n",
       "mb_per_month_included       30720  \n",
       "minutes_included             3000  \n",
       "rub_monthly_fee              1950  \n",
       "rub_per_gb                    150  \n",
       "rub_per_message                 1  \n",
       "rub_per_minute                  1  \n",
       "month                           9  \n",
       "calls_per_month                58  \n",
       "min_per_month                 421  \n",
       "ses_per_month                  27  \n",
       "mb_per_month                14556  \n",
       "mes_per_month                  57  "
      ]
     },
     "execution_count": 17,
     "metadata": {},
     "output_type": "execute_result"
    }
   ],
   "source": [
    "ds_stat =( \n",
    "    ds_users.join(ds_tariffs.set_index('tariff'), on='tariff')\n",
    "    .merge(ds_calls_group, on=['user_id'], how='outer')\n",
    "    .merge(ds_internet_group, on=['user_id','month'], how='outer')\n",
    "    .merge(ds_messages_group, on=['user_id','month'], how='outer')\n",
    ")\n",
    "\n",
    "ds_stat = ds_stat.drop(columns=['first_name', 'last_name', 'age'])\n",
    "ds_stat.head().T"
   ]
  },
  {
   "cell_type": "markdown",
   "metadata": {},
   "source": [
    "##  Data analysis"
   ]
  },
  {
   "cell_type": "markdown",
   "metadata": {},
   "source": [
    "### Smart tariff customer research"
   ]
  },
  {
   "cell_type": "code",
   "execution_count": 18,
   "metadata": {},
   "outputs": [
    {
     "data": {
      "text/html": [
       "<div>\n",
       "<style scoped>\n",
       "    .dataframe tbody tr th:only-of-type {\n",
       "        vertical-align: middle;\n",
       "    }\n",
       "\n",
       "    .dataframe tbody tr th {\n",
       "        vertical-align: top;\n",
       "    }\n",
       "\n",
       "    .dataframe thead th {\n",
       "        text-align: right;\n",
       "    }\n",
       "</style>\n",
       "<table border=\"1\" class=\"dataframe\">\n",
       "  <thead>\n",
       "    <tr style=\"text-align: right;\">\n",
       "      <th></th>\n",
       "      <th>min_per_month</th>\n",
       "      <th>mb_per_month</th>\n",
       "      <th>mes_per_month</th>\n",
       "    </tr>\n",
       "  </thead>\n",
       "  <tbody>\n",
       "    <tr>\n",
       "      <td>count</td>\n",
       "      <td>2223.000000</td>\n",
       "      <td>2222.000000</td>\n",
       "      <td>1916.000000</td>\n",
       "    </tr>\n",
       "    <tr>\n",
       "      <td>mean</td>\n",
       "      <td>372.446694</td>\n",
       "      <td>16195.842484</td>\n",
       "      <td>38.747390</td>\n",
       "    </tr>\n",
       "    <tr>\n",
       "      <td>std</td>\n",
       "      <td>169.012757</td>\n",
       "      <td>5860.460985</td>\n",
       "      <td>26.817396</td>\n",
       "    </tr>\n",
       "    <tr>\n",
       "      <td>min</td>\n",
       "      <td>0.000000</td>\n",
       "      <td>0.000000</td>\n",
       "      <td>1.000000</td>\n",
       "    </tr>\n",
       "    <tr>\n",
       "      <td>25%</td>\n",
       "      <td>252.000000</td>\n",
       "      <td>12637.500000</td>\n",
       "      <td>17.000000</td>\n",
       "    </tr>\n",
       "    <tr>\n",
       "      <td>50%</td>\n",
       "      <td>375.000000</td>\n",
       "      <td>16481.000000</td>\n",
       "      <td>34.000000</td>\n",
       "    </tr>\n",
       "    <tr>\n",
       "      <td>75%</td>\n",
       "      <td>485.000000</td>\n",
       "      <td>20024.750000</td>\n",
       "      <td>55.000000</td>\n",
       "    </tr>\n",
       "    <tr>\n",
       "      <td>max</td>\n",
       "      <td>1275.000000</td>\n",
       "      <td>38510.000000</td>\n",
       "      <td>143.000000</td>\n",
       "    </tr>\n",
       "  </tbody>\n",
       "</table>\n",
       "</div>"
      ],
      "text/plain": [
       "       min_per_month  mb_per_month  mes_per_month\n",
       "count    2223.000000   2222.000000    1916.000000\n",
       "mean      372.446694  16195.842484      38.747390\n",
       "std       169.012757   5860.460985      26.817396\n",
       "min         0.000000      0.000000       1.000000\n",
       "25%       252.000000  12637.500000      17.000000\n",
       "50%       375.000000  16481.000000      34.000000\n",
       "75%       485.000000  20024.750000      55.000000\n",
       "max      1275.000000  38510.000000     143.000000"
      ]
     },
     "execution_count": 18,
     "metadata": {},
     "output_type": "execute_result"
    }
   ],
   "source": [
    "ds_smart = ds_stat.query('tariff == \"smart\"')\n",
    "ds_smart = ds_smart.loc[:,['min_per_month','mb_per_month','mes_per_month']]\n",
    "ds_smart.describe()"
   ]
  },
  {
   "cell_type": "code",
   "execution_count": 19,
   "metadata": {},
   "outputs": [],
   "source": [
    "def print_hist(data, column):       \n",
    "    sns.histplot(data=data, x=column, bins=50, kde=True)\n",
    "        \n",
    "    variance = math.ceil(np.var(data[column], ddof=1))\n",
    "    std_dev = math.ceil(np.sqrt(variance))\n",
    "    mean = math.ceil(data[column].mean())\n",
    "\n",
    "    print('var:{}'.format(variance),'std_dev:{}'.format(std_dev),'mean:{}'.format(mean))    "
   ]
  },
  {
   "cell_type": "code",
   "execution_count": 20,
   "metadata": {},
   "outputs": [
    {
     "name": "stdout",
     "output_type": "stream",
     "text": [
      "var:28566 std_dev:170 mean:373\n"
     ]
    },
    {
     "data": {
      "image/png": "[encoded data removed]",
      "text/plain": [
       "<Figure size 432x288 with 1 Axes>"
      ]
     },
     "metadata": {},
     "output_type": "display_data"
    }
   ],
   "source": [
    "print_hist(ds_smart, \"min_per_month\")   "
   ]
  },
  {
   "cell_type": "code",
   "execution_count": 21,
   "metadata": {},
   "outputs": [
    {
     "name": "stdout",
     "output_type": "stream",
     "text": [
      "var:34345003 std_dev:5861 mean:16196\n"
     ]
    },
    {
     "data": {
      "image/png": "[encoded data removed]",
      "text/plain": [
       "<Figure size 432x288 with 1 Axes>"
      ]
     },
     "metadata": {},
     "output_type": "display_data"
    }
   ],
   "source": [
    "print_hist(ds_smart, \"mb_per_month\")   "
   ]
  },
  {
   "cell_type": "code",
   "execution_count": 22,
   "metadata": {},
   "outputs": [
    {
     "name": "stdout",
     "output_type": "stream",
     "text": [
      "var:720 std_dev:27 mean:39\n"
     ]
    },
    {
     "data": {
      "image/png": "[encoded data removed]",
      "text/plain": [
       "<Figure size 432x288 with 1 Axes>"
      ]
     },
     "metadata": {},
     "output_type": "display_data"
    }
   ],
   "source": [
    "print_hist(ds_smart, \"mes_per_month\")   "
   ]
  },
  {
   "cell_type": "markdown",
   "metadata": {},
   "source": [
    "1. Minutes usage - the distribution of the use of minutes tends to normal. On average, users use 373 minutes, thus do not exceed the time limit in accordance with the terms of the package (500). Overuse of minutes is in the limit of 800 minutes, so users spend up to 900 rubles extra. If users have overdraft only on minutes, then the transition to the tariff ultra for them will not be appropriate;\n",
    "\n",
    "2. Internet traffic usage - the distribution of mb usage tends to be normal. The average use of mb is 16196 mb, which slightly exceeds the limit of the package (15360). There is also a significant portion of users who exceed the limit and, accordingly, pay extra for the use of the Internet. The excess is in the range up to 30 gb, so some users overpay for 15 extra gb, which amounts to 3000 rubles per month + 500 rubles regular fee for the tariff. Users who overspend the Internet more than 7 gb can be targeted advertising and offer to switch to the tariff ultra;\n",
    "\n",
    "3. Message usage - the distribution of message usage has a shift to the left, so most users use the service in accordance with the limit of 50 messages. Overconsumption of messages is within 100 messages, that is, the additional cost of 150 rubles, which can not be an additional motivation for switching to the tariff ultra"
   ]
  },
  {
   "cell_type": "code",
   "execution_count": 23,
   "metadata": {},
   "outputs": [
    {
     "data": {
      "text/plain": [
       "count    3182.000000\n",
       "mean     1480.589252\n",
       "std       788.586262\n",
       "min       550.000000\n",
       "25%       676.000000\n",
       "50%      1550.000000\n",
       "75%      1950.000000\n",
       "max      6425.000000\n",
       "Name: rev_per_user, dtype: float64"
      ]
     },
     "execution_count": 23,
     "metadata": {},
     "output_type": "execute_result"
    }
   ],
   "source": [
    "def calc_profit(row):\n",
    "    mes_included = row['messages_included']\n",
    "    mb_per_month_included = row['mb_per_month_included']\n",
    "    minutes_included = row['minutes_included']\n",
    "    min_per_month = row['min_per_month']\n",
    "    mb_per_month = row['mb_per_month']\n",
    "    mes_per_month = row['mes_per_month']\n",
    "    rub_per_gb = row['rub_per_gb']\n",
    "    rub_per_message = row['rub_per_message']\n",
    "    rub_per_minute = row['rub_per_minute']\n",
    "    \n",
    "    over_per_month = 0\n",
    "    \n",
    "    if mes_per_month > mes_included:\n",
    "        over_per_month += (mes_per_month - mes_included)*rub_per_message\n",
    "    if mb_per_month > mb_per_month_included:\n",
    "        over_per_month += math.ceil((mb_per_month-mb_per_month_included)/1024)*rub_per_gb\n",
    "    if min_per_month > minutes_included:\n",
    "        over_per_month += (min_per_month - minutes_included)*rub_per_minute\n",
    "        \n",
    "    return over_per_month \n",
    "\n",
    "\n",
    "ds_stat['profit'] = ds_stat.apply(calc_profit, axis=1)\n",
    "ds_stat['rev_per_user'] = ds_stat['profit'] + ds_stat['rub_monthly_fee']\n",
    "\n",
    "ds_stat['rev_per_user'].describe()"
   ]
  },
  {
   "cell_type": "markdown",
   "metadata": {},
   "source": [
    "### Ultra tariff customer research"
   ]
  },
  {
   "cell_type": "code",
   "execution_count": 24,
   "metadata": {},
   "outputs": [
    {
     "data": {
      "text/html": [
       "<div>\n",
       "<style scoped>\n",
       "    .dataframe tbody tr th:only-of-type {\n",
       "        vertical-align: middle;\n",
       "    }\n",
       "\n",
       "    .dataframe tbody tr th {\n",
       "        vertical-align: top;\n",
       "    }\n",
       "\n",
       "    .dataframe thead th {\n",
       "        text-align: right;\n",
       "    }\n",
       "</style>\n",
       "<table border=\"1\" class=\"dataframe\">\n",
       "  <thead>\n",
       "    <tr style=\"text-align: right;\">\n",
       "      <th></th>\n",
       "      <th>min_per_month</th>\n",
       "      <th>mb_per_month</th>\n",
       "      <th>mes_per_month</th>\n",
       "    </tr>\n",
       "  </thead>\n",
       "  <tbody>\n",
       "    <tr>\n",
       "      <td>count</td>\n",
       "      <td>951.000000</td>\n",
       "      <td>941.000000</td>\n",
       "      <td>762.000000</td>\n",
       "    </tr>\n",
       "    <tr>\n",
       "      <td>mean</td>\n",
       "      <td>484.652997</td>\n",
       "      <td>19650.944740</td>\n",
       "      <td>61.195538</td>\n",
       "    </tr>\n",
       "    <tr>\n",
       "      <td>std</td>\n",
       "      <td>273.203320</td>\n",
       "      <td>9969.482434</td>\n",
       "      <td>44.716597</td>\n",
       "    </tr>\n",
       "    <tr>\n",
       "      <td>min</td>\n",
       "      <td>0.000000</td>\n",
       "      <td>0.000000</td>\n",
       "      <td>1.000000</td>\n",
       "    </tr>\n",
       "    <tr>\n",
       "      <td>25%</td>\n",
       "      <td>276.000000</td>\n",
       "      <td>11863.000000</td>\n",
       "      <td>25.000000</td>\n",
       "    </tr>\n",
       "    <tr>\n",
       "      <td>50%</td>\n",
       "      <td>468.000000</td>\n",
       "      <td>19413.000000</td>\n",
       "      <td>52.000000</td>\n",
       "    </tr>\n",
       "    <tr>\n",
       "      <td>75%</td>\n",
       "      <td>674.500000</td>\n",
       "      <td>26840.000000</td>\n",
       "      <td>88.000000</td>\n",
       "    </tr>\n",
       "    <tr>\n",
       "      <td>max</td>\n",
       "      <td>1484.000000</td>\n",
       "      <td>49701.000000</td>\n",
       "      <td>224.000000</td>\n",
       "    </tr>\n",
       "  </tbody>\n",
       "</table>\n",
       "</div>"
      ],
      "text/plain": [
       "       min_per_month  mb_per_month  mes_per_month\n",
       "count     951.000000    941.000000     762.000000\n",
       "mean      484.652997  19650.944740      61.195538\n",
       "std       273.203320   9969.482434      44.716597\n",
       "min         0.000000      0.000000       1.000000\n",
       "25%       276.000000  11863.000000      25.000000\n",
       "50%       468.000000  19413.000000      52.000000\n",
       "75%       674.500000  26840.000000      88.000000\n",
       "max      1484.000000  49701.000000     224.000000"
      ]
     },
     "execution_count": 24,
     "metadata": {},
     "output_type": "execute_result"
    }
   ],
   "source": [
    "ds_ultra = ds_stat.query('tariff == \"ultra\"')\n",
    "ds_ultra = ds_ultra.loc[:,['min_per_month','mb_per_month','mes_per_month']]\n",
    "ds_ultra.describe()"
   ]
  },
  {
   "cell_type": "code",
   "execution_count": 25,
   "metadata": {},
   "outputs": [
    {
     "name": "stdout",
     "output_type": "stream",
     "text": [
      "var:74641 std_dev:274 mean:485\n"
     ]
    },
    {
     "data": {
      "image/png": "[encoded data removed]",
      "text/plain": [
       "<Figure size 432x288 with 1 Axes>"
      ]
     },
     "metadata": {},
     "output_type": "display_data"
    }
   ],
   "source": [
    "print_hist(ds_ultra, \"min_per_month\")   "
   ]
  },
  {
   "cell_type": "code",
   "execution_count": 26,
   "metadata": {},
   "outputs": [
    {
     "name": "stdout",
     "output_type": "stream",
     "text": [
      "var:99390580 std_dev:9970 mean:19651\n"
     ]
    },
    {
     "data": {
      "image/png": "[encoded data removed]",
      "text/plain": [
       "<Figure size 432x288 with 1 Axes>"
      ]
     },
     "metadata": {},
     "output_type": "display_data"
    }
   ],
   "source": [
    "print_hist(ds_ultra, \"mb_per_month\") "
   ]
  },
  {
   "cell_type": "code",
   "execution_count": 27,
   "metadata": {},
   "outputs": [
    {
     "name": "stdout",
     "output_type": "stream",
     "text": [
      "var:2000 std_dev:45 mean:62\n"
     ]
    },
    {
     "data": {
      "image/png": "[encoded data removed]",
      "text/plain": [
       "<Figure size 432x288 with 1 Axes>"
      ]
     },
     "metadata": {},
     "output_type": "display_data"
    }
   ],
   "source": [
    "print_hist(ds_ultra, \"mes_per_month\") "
   ]
  },
  {
   "cell_type": "markdown",
   "metadata": {},
   "source": [
    "The most similar distribution of aggregated average values by users turned out for Internet use, which confirms the stable behavioral habits of users - this information can be useful for further revision of tariff plans"
   ]
  },
  {
   "cell_type": "markdown",
   "metadata": {},
   "source": [
    "### Tariffs comparison"
   ]
  },
  {
   "cell_type": "code",
   "execution_count": 28,
   "metadata": {},
   "outputs": [
    {
     "data": {
      "image/png": "[encoded data removed]",
      "text/plain": [
       "<Figure size 1080x288 with 1 Axes>"
      ]
     },
     "metadata": {},
     "output_type": "display_data"
    }
   ],
   "source": [
    "plt.figure(figsize=(15,4))\n",
    "\n",
    "ds_smart['min_per_month'].hist(bins=30,range=(0,1000),density=True,label='smart',histtype='step')\n",
    "ds_ultra['min_per_month'].hist(bins=30,range=(0,1200),density=True,label='ultra',histtype='step')\n",
    "plt.xlabel('min_per_month')\n",
    "plt.ylabel('density')\n",
    "plt.title('Comparison of tariffs by minutes usage')\n",
    "plt.legend()\n",
    "plt.show()"
   ]
  },
  {
   "cell_type": "code",
   "execution_count": 29,
   "metadata": {},
   "outputs": [
    {
     "data": {
      "image/png": "[encoded data removed]",
      "text/plain": [
       "<Figure size 360x360 with 1 Axes>"
      ]
     },
     "metadata": {},
     "output_type": "display_data"
    }
   ],
   "source": [
    "sns.catplot(x='tariff',y='min_per_month',kind='box',data=ds_stat);"
   ]
  },
  {
   "cell_type": "code",
   "execution_count": 30,
   "metadata": {},
   "outputs": [
    {
     "data": {
      "image/png": "[encoded data removed]",
      "text/plain": [
       "<Figure size 1080x288 with 1 Axes>"
      ]
     },
     "metadata": {},
     "output_type": "display_data"
    }
   ],
   "source": [
    "plt.figure(figsize=(15,4))\n",
    "\n",
    "ds_smart['mb_per_month'].hist(bins=30,range=(0,30000),density=True,label='smart',histtype='step')\n",
    "ds_ultra['mb_per_month'].hist(bins=30,range=(0,45000),density=True,label='ultra',histtype='step')\n",
    "plt.xlabel('mb_per_month')\n",
    "plt.ylabel('density')\n",
    "plt.title('Comparison of tariffs by Mb usage')\n",
    "plt.legend()\n",
    "plt.show()"
   ]
  },
  {
   "cell_type": "code",
   "execution_count": 31,
   "metadata": {},
   "outputs": [
    {
     "data": {
      "image/png": "[encoded data removed]",
      "text/plain": [
       "<Figure size 360x360 with 1 Axes>"
      ]
     },
     "metadata": {},
     "output_type": "display_data"
    }
   ],
   "source": [
    "sns.catplot(x='tariff',y='mb_per_month',kind='box',data=ds_stat);"
   ]
  },
  {
   "cell_type": "code",
   "execution_count": 32,
   "metadata": {},
   "outputs": [
    {
     "data": {
      "image/png": "[encoded data removed]",
      "text/plain": [
       "<Figure size 1080x288 with 1 Axes>"
      ]
     },
     "metadata": {},
     "output_type": "display_data"
    }
   ],
   "source": [
    "plt.figure(figsize=(15,4))\n",
    "\n",
    "ds_smart['mes_per_month'].hist(bins=30,range=(0,100),density=True,label='smart',histtype='step')\n",
    "ds_ultra['mes_per_month'].hist(bins=30,range=(0,150),density=True,label='ultra',histtype='step')\n",
    "plt.xlabel('mes_per_month')\n",
    "plt.ylabel('density')\n",
    "plt.title('Comparison of tariffs by messages usage')\n",
    "plt.legend()\n",
    "plt.show()"
   ]
  },
  {
   "cell_type": "code",
   "execution_count": 33,
   "metadata": {},
   "outputs": [
    {
     "data": {
      "image/png": "[encoded data removed]",
      "text/plain": [
       "<Figure size 360x360 with 1 Axes>"
      ]
     },
     "metadata": {},
     "output_type": "display_data"
    }
   ],
   "source": [
    "sns.catplot(x='tariff',y='mes_per_month',kind='box',data=ds_stat);"
   ]
  },
  {
   "cell_type": "markdown",
   "metadata": {},
   "source": [
    "This comparison again clearly shows that Ultra tariff users spend the tariff more generously than Smart tariff users "
   ]
  },
  {
   "cell_type": "code",
   "execution_count": 34,
   "metadata": {},
   "outputs": [
    {
     "name": "stderr",
     "output_type": "stream",
     "text": [
      "/home/jovyan/.local/lib/python3.7/site-packages/seaborn/_decorators.py:43: FutureWarning: Pass the following variable as a keyword arg: x. From version 0.12, the only valid positional argument will be `data`, and passing other arguments without an explicit keyword will result in an error or misinterpretation.\n",
      "  FutureWarning\n",
      "/home/jovyan/.local/lib/python3.7/site-packages/seaborn/distributions.py:2619: FutureWarning: `distplot` is a deprecated function and will be removed in a future version. Please adapt your code to use either `displot` (a figure-level function with similar flexibility) or `histplot` (an axes-level function for histograms).\n",
      "  warnings.warn(msg, FutureWarning)\n"
     ]
    },
    {
     "data": {
      "image/png": "[encoded data removed]",
      "text/plain": [
       "<Figure size 432x288 with 2 Axes>"
      ]
     },
     "metadata": {},
     "output_type": "display_data"
    }
   ],
   "source": [
    "x = ds_stat['mes_per_month']\n",
    "\n",
    "f, (ax_box, ax_hist) = plt.subplots(2, sharex=True, \n",
    "                                    gridspec_kw={\"height_ratios\": (.15, .85)})\n",
    "\n",
    "sns.boxplot(x, ax=ax_box)\n",
    "sns.distplot(x, ax=ax_hist)\n",
    "\n",
    "ax_box.set(yticks=[])\n",
    "sns.despine(ax=ax_hist)\n",
    "sns.despine(ax=ax_box, left=True)"
   ]
  },
  {
   "cell_type": "markdown",
   "metadata": {},
   "source": [
    "## Проверка гипотез"
   ]
  },
  {
   "cell_type": "code",
   "execution_count": 35,
   "metadata": {},
   "outputs": [],
   "source": [
    "ds_ultra_r = ds_stat.query('tariff == \"ultra\"')\n",
    "ds_ultra_r = ds_ultra_r['rev_per_user']\n",
    "\n",
    "ds_smart_r = ds_stat.query('tariff == \"smart\"')\n",
    "ds_smart_r = ds_smart_r['rev_per_user']\n",
    "\n",
    "ds_mos = ds_stat.query('city == \"Москва\"')\n",
    "ds_mos =  ds_mos['rev_per_user']\n",
    "\n",
    "ds_other = ds_stat.query('city != \"Москва\"')\n",
    "ds_other =  ds_other['rev_per_user']"
   ]
  },
  {
   "cell_type": "markdown",
   "metadata": {},
   "source": [
    "**Гипотеза 1:**\n",
    "\n",
    "**H0: average revenue of Ultra and Smart tariff users is different**\n",
    "\n",
    "**H1: average revenue of Ultra and Smart tariff users is not different**\n"
   ]
  },
  {
   "cell_type": "code",
   "execution_count": 36,
   "metadata": {},
   "outputs": [
    {
     "name": "stdout",
     "output_type": "stream",
     "text": [
      "Средняя выручка по пользователю тарифа Smart:1228\n",
      "Средняя выручка по пользователю тарифа Ultra:2070\n",
      "p-значение: 8.542639110889139e-192\n",
      "Отвергаем нулевую гипотезу\n"
     ]
    }
   ],
   "source": [
    "alpha = 0.05\n",
    "\n",
    "results = st.ttest_ind(\n",
    "    ds_ultra_r, \n",
    "    ds_smart_r)\n",
    "\n",
    "print('Average revenue using Smart:{}'.format(math.ceil(ds_smart_r.mean())))\n",
    "print('Average revenue using  Ultra:{}'.format(math.ceil(ds_ultra_r.mean())))\n",
    "\n",
    "print('p-value:', results.pvalue)\n",
    "\n",
    "if (results.pvalue < alpha):\n",
    "    print(\"Reject H0\")\n",
    "else:\n",
    "    print(\"It wa not possible to reject H0\")"
   ]
  },
  {
   "cell_type": "markdown",
   "metadata": {},
   "source": [
    "We reject the null hypothesis with a significance level of 5% and a p-value of 8.542639110889139e-192. We used a two-sided test, since the average can be shifted both to the right and to the left. The Ultra tariff brings in 40% more revenue and it was initially expected that the revenue of the two tariffs was different. With this conclusion, marketing campaigns can be done for each tariff separately."
   ]
  },
  {
   "cell_type": "markdown",
   "metadata": {},
   "source": [
    "**Гипотеза 2:**\n",
    "\n",
    "**H0: average revenue of users from Moscow differs from the revenue of users from other regions**\n",
    "\n",
    "**H1: average revenue of users from Moscow does not differ from the revenue of users from other regionsз**"
   ]
  },
  {
   "cell_type": "code",
   "execution_count": 37,
   "metadata": {},
   "outputs": [
    {
     "name": "stdout",
     "output_type": "stream",
     "text": [
      "Средняя выручка по пользователю из МСК:1507\n",
      "Средняя выручка по пользователей других регионов:1475\n",
      "p-значение: nan\n",
      "Не получилось отвергнуть нулевую гипотезу\n"
     ]
    }
   ],
   "source": [
    "alpha = 0.05\n",
    "\n",
    "results = st.ttest_ind(\n",
    "    ds_other, \n",
    "    ds_mos)\n",
    "\n",
    "print('Average revenu in Moscow:{}'.format(math.ceil(ds_mos.mean())))\n",
    "print('Average revenue for other regions:{}'.format(math.ceil(ds_other.mean())))\n",
    "\n",
    "print('p-value:', results.pvalue)\n",
    "\n",
    "if (results.pvalue < alpha):\n",
    "    print(\"Reject H0\")\n",
    "else:\n",
    "    print(\"It wa not possible to reject H0\")"
   ]
  },
  {
   "cell_type": "markdown",
   "metadata": {},
   "source": [
    "For a given statistical significance level of 5%, we cannot reject the null hypothesis. In this case we used a two-sided test, as the average can be shifted both to the right and to the left. It turned out that in the available date in Moscow and the regions are paid almost equally, although initially it seemed that the costs in the capital more. This is for the best, you can skip the step of targeting by geography of users."
   ]
  },
  {
   "cell_type": "markdown",
   "metadata": {},
   "source": [
    "##  Conclusion"
   ]
  },
  {
   "cell_type": "code",
   "execution_count": 38,
   "metadata": {},
   "outputs": [
    {
     "data": {
      "text/html": [
       "<div>\n",
       "<style scoped>\n",
       "    .dataframe tbody tr th:only-of-type {\n",
       "        vertical-align: middle;\n",
       "    }\n",
       "\n",
       "    .dataframe tbody tr th {\n",
       "        vertical-align: top;\n",
       "    }\n",
       "\n",
       "    .dataframe thead th {\n",
       "        text-align: right;\n",
       "    }\n",
       "</style>\n",
       "<table border=\"1\" class=\"dataframe\">\n",
       "  <thead>\n",
       "    <tr style=\"text-align: right;\">\n",
       "      <th></th>\n",
       "      <th>count</th>\n",
       "      <th>mean</th>\n",
       "      <th>sum</th>\n",
       "    </tr>\n",
       "    <tr>\n",
       "      <th>tariff</th>\n",
       "      <th></th>\n",
       "      <th></th>\n",
       "      <th></th>\n",
       "    </tr>\n",
       "  </thead>\n",
       "  <tbody>\n",
       "    <tr>\n",
       "      <td>smart</td>\n",
       "      <td>2225</td>\n",
       "      <td>1227.0</td>\n",
       "      <td>2730635.0</td>\n",
       "    </tr>\n",
       "    <tr>\n",
       "      <td>ultra</td>\n",
       "      <td>957</td>\n",
       "      <td>2070.0</td>\n",
       "      <td>1980600.0</td>\n",
       "    </tr>\n",
       "  </tbody>\n",
       "</table>\n",
       "</div>"
      ],
      "text/plain": [
       "        count    mean        sum\n",
       "tariff                          \n",
       "smart    2225  1227.0  2730635.0\n",
       "ultra     957  2070.0  1980600.0"
      ]
     },
     "execution_count": 38,
     "metadata": {},
     "output_type": "execute_result"
    }
   ],
   "source": [
    "ds_stat_p_rev = (\n",
    "    ds_stat.pivot_table(index='tariff',values=('rev_per_user'),aggfunc=('sum','mean','count'))\n",
    "    .round(0)\n",
    ")\n",
    "ds_stat_p_rev"
   ]
  },
  {
   "cell_type": "markdown",
   "metadata": {},
   "source": [
    "In absolute terms, Smart brought in more revenue, due to the greater number of users, but the specific revenue is much higher from Ultra tariff users. We would like to note that we confirmed the statistical significance of differences in the average revenue of tariff users, but we could not find statistically significant differences in the average revenue by region.\n",
    "\n",
    "However, we would like to point out an interesting feature of the average revenue from Smart tariff users, it exceeds the monthly fee by 650 rubles, which suggests that the users of this tariff constantly pay extra for extra traffic and minutes. Let's take a look at the overcharges:"
   ]
  },
  {
   "cell_type": "code",
   "execution_count": 39,
   "metadata": {},
   "outputs": [
    {
     "data": {
      "text/html": [
       "<div>\n",
       "<style scoped>\n",
       "    .dataframe tbody tr th:only-of-type {\n",
       "        vertical-align: middle;\n",
       "    }\n",
       "\n",
       "    .dataframe tbody tr th {\n",
       "        vertical-align: top;\n",
       "    }\n",
       "\n",
       "    .dataframe thead th {\n",
       "        text-align: right;\n",
       "    }\n",
       "</style>\n",
       "<table border=\"1\" class=\"dataframe\">\n",
       "  <thead>\n",
       "    <tr style=\"text-align: right;\">\n",
       "      <th></th>\n",
       "      <th>count</th>\n",
       "      <th>mean</th>\n",
       "      <th>sum</th>\n",
       "    </tr>\n",
       "    <tr>\n",
       "      <th>tariff</th>\n",
       "      <th></th>\n",
       "      <th></th>\n",
       "      <th></th>\n",
       "    </tr>\n",
       "  </thead>\n",
       "  <tbody>\n",
       "    <tr>\n",
       "      <td>smart</td>\n",
       "      <td>2225</td>\n",
       "      <td>677.0</td>\n",
       "      <td>1506885.0</td>\n",
       "    </tr>\n",
       "    <tr>\n",
       "      <td>ultra</td>\n",
       "      <td>957</td>\n",
       "      <td>120.0</td>\n",
       "      <td>114450.0</td>\n",
       "    </tr>\n",
       "  </tbody>\n",
       "</table>\n",
       "</div>"
      ],
      "text/plain": [
       "        count   mean        sum\n",
       "tariff                         \n",
       "smart    2225  677.0  1506885.0\n",
       "ultra     957  120.0   114450.0"
      ]
     },
     "execution_count": 39,
     "metadata": {},
     "output_type": "execute_result"
    }
   ],
   "source": [
    "ds_stat_p_over = (\n",
    "    ds_stat.pivot_table(index='tariff',values=('profit'),aggfunc=('sum','mean','count'))\n",
    "    .round(0)\n",
    ")\n",
    "ds_stat_p_over"
   ]
  },
  {
   "cell_type": "markdown",
   "metadata": {},
   "source": [
    "1.5 million rubles earned due to overcharges by Smart tariff users, which is good, but carries the risk of user outflow due to tariffs that do not meet their needs. We can offer these users to switch to Ultra tariff, but we understand that the average amount of overspending is 680 rubles, and the difference in tariffs is 1400 rubles, and it makes no sense for users to switch to this tariff, respectively targeted advertising is not helpful here. During the research we determined that the main overdraft is connected with the significant overdraft of the Internet traffic of Smart tariff users and reaches 30gb, but the main part of users is within the range of 15-20gb. At the same time the consumption of messages and minutes in both tariffs differs not so dramatically and often does not even reach the limit.\n",
    "\n",
    "Thus we can conclude that perhaps it is not necessary to spend the advertising budget, and to review the tariffs, to make an intermediate tariff with an internet limit up to 20 gb. and add an unlimited tariff, as in the tariff ultra there are such users and they could be interested in this offer."
   ]
  }
 ],
 "metadata": {
  "ExecuteTimeLog": [
   {
    "duration": 602,
    "start_time": "2021-10-15T13:24:57.781Z"
   },
   {
    "duration": 425,
    "start_time": "2021-10-15T13:25:19.035Z"
   },
   {
    "duration": 142,
    "start_time": "2021-10-15T13:25:24.556Z"
   },
   {
    "duration": 31,
    "start_time": "2021-10-15T13:25:26.127Z"
   },
   {
    "duration": 168,
    "start_time": "2021-10-15T13:26:34.597Z"
   },
   {
    "duration": 122,
    "start_time": "2021-10-15T13:28:26.267Z"
   },
   {
    "duration": 97,
    "start_time": "2021-10-15T13:29:52.233Z"
   },
   {
    "duration": 135,
    "start_time": "2021-10-15T13:30:17.997Z"
   },
   {
    "duration": 22,
    "start_time": "2021-10-15T13:30:40.966Z"
   },
   {
    "duration": 4555,
    "start_time": "2021-10-15T13:30:54.843Z"
   },
   {
    "duration": 45,
    "start_time": "2021-10-15T13:31:11.448Z"
   },
   {
    "duration": 178,
    "start_time": "2021-10-15T13:39:28.709Z"
   },
   {
    "duration": 151,
    "start_time": "2021-10-15T13:39:56.560Z"
   },
   {
    "duration": 100,
    "start_time": "2021-10-15T13:40:16.081Z"
   },
   {
    "duration": 27,
    "start_time": "2021-10-15T13:40:34.160Z"
   },
   {
    "duration": 49,
    "start_time": "2021-10-15T13:40:54.981Z"
   },
   {
    "duration": 198,
    "start_time": "2021-10-15T13:43:09.472Z"
   },
   {
    "duration": 205,
    "start_time": "2021-10-15T13:43:32.243Z"
   },
   {
    "duration": 130,
    "start_time": "2021-10-15T13:43:48.829Z"
   },
   {
    "duration": 269,
    "start_time": "2021-10-15T13:43:53.765Z"
   },
   {
    "duration": 435,
    "start_time": "2021-10-16T12:55:48.405Z"
   },
   {
    "duration": 849,
    "start_time": "2021-10-16T12:55:56.843Z"
   },
   {
    "duration": 363,
    "start_time": "2021-10-16T12:55:57.695Z"
   },
   {
    "duration": 291,
    "start_time": "2021-10-16T12:55:58.062Z"
   },
   {
    "duration": 193,
    "start_time": "2021-10-16T12:55:58.356Z"
   },
   {
    "duration": 44,
    "start_time": "2021-10-16T12:55:58.552Z"
   },
   {
    "duration": 53,
    "start_time": "2021-10-16T12:55:58.599Z"
   },
   {
    "duration": 510,
    "start_time": "2021-10-16T12:55:58.655Z"
   },
   {
    "duration": 718,
    "start_time": "2021-10-16T12:55:59.170Z"
   },
   {
    "duration": 352,
    "start_time": "2021-10-16T12:55:59.894Z"
   },
   {
    "duration": 3,
    "start_time": "2021-10-16T12:56:57.564Z"
   },
   {
    "duration": 294,
    "start_time": "2021-10-16T12:57:02.684Z"
   },
   {
    "duration": 376,
    "start_time": "2021-10-16T12:59:29.087Z"
   },
   {
    "duration": 3,
    "start_time": "2021-10-16T12:59:38.748Z"
   },
   {
    "duration": 281,
    "start_time": "2021-10-16T12:59:38.760Z"
   },
   {
    "duration": 225,
    "start_time": "2021-10-16T12:59:39.044Z"
   },
   {
    "duration": 215,
    "start_time": "2021-10-16T12:59:39.272Z"
   },
   {
    "duration": 39,
    "start_time": "2021-10-16T12:59:39.491Z"
   },
   {
    "duration": 64,
    "start_time": "2021-10-16T12:59:39.533Z"
   },
   {
    "duration": 252,
    "start_time": "2021-10-16T12:59:39.599Z"
   },
   {
    "duration": 494,
    "start_time": "2021-10-16T12:59:39.853Z"
   },
   {
    "duration": 45,
    "start_time": "2021-10-16T12:59:40.350Z"
   },
   {
    "duration": 137,
    "start_time": "2021-10-16T12:59:40.398Z"
   },
   {
    "duration": 3,
    "start_time": "2021-10-16T13:06:30.047Z"
   },
   {
    "duration": 399,
    "start_time": "2021-10-16T13:17:51.883Z"
   },
   {
    "duration": 111,
    "start_time": "2021-10-16T13:19:36.273Z"
   },
   {
    "duration": 74,
    "start_time": "2021-10-16T13:23:13.984Z"
   },
   {
    "duration": 29,
    "start_time": "2021-10-16T13:25:41.198Z"
   },
   {
    "duration": 12,
    "start_time": "2021-10-16T13:28:39.856Z"
   },
   {
    "duration": 15,
    "start_time": "2021-10-16T13:30:01.786Z"
   },
   {
    "duration": 88,
    "start_time": "2021-10-16T13:30:57.014Z"
   },
   {
    "duration": 6,
    "start_time": "2021-10-16T13:33:31.234Z"
   },
   {
    "duration": 56,
    "start_time": "2021-10-16T13:33:33.629Z"
   },
   {
    "duration": 39,
    "start_time": "2021-10-16T13:33:39.029Z"
   },
   {
    "duration": 13,
    "start_time": "2021-10-16T13:37:31.310Z"
   },
   {
    "duration": 338,
    "start_time": "2021-10-16T13:41:17.735Z"
   },
   {
    "duration": 95,
    "start_time": "2021-10-16T13:42:04.630Z"
   },
   {
    "duration": 297,
    "start_time": "2021-10-16T13:43:13.078Z"
   },
   {
    "duration": 228,
    "start_time": "2021-10-16T13:43:40.517Z"
   },
   {
    "duration": 436,
    "start_time": "2021-10-16T13:44:56.324Z"
   },
   {
    "duration": 296,
    "start_time": "2021-10-16T13:45:43.920Z"
   },
   {
    "duration": 18,
    "start_time": "2021-10-16T13:46:33.185Z"
   },
   {
    "duration": 99,
    "start_time": "2021-10-16T14:03:56.482Z"
   },
   {
    "duration": 19,
    "start_time": "2021-10-16T14:04:12.497Z"
   },
   {
    "duration": 33,
    "start_time": "2021-10-16T14:07:47.341Z"
   },
   {
    "duration": 881,
    "start_time": "2021-10-16T14:10:55.242Z"
   },
   {
    "duration": 578,
    "start_time": "2021-10-16T14:11:16.563Z"
   },
   {
    "duration": 1695,
    "start_time": "2021-10-16T14:11:23.193Z"
   },
   {
    "duration": 625,
    "start_time": "2021-10-16T14:19:08.800Z"
   },
   {
    "duration": 313,
    "start_time": "2021-10-16T14:19:46.177Z"
   },
   {
    "duration": 316,
    "start_time": "2021-10-16T14:20:00.988Z"
   },
   {
    "duration": 518,
    "start_time": "2021-10-16T15:18:48.582Z"
   },
   {
    "duration": 1934,
    "start_time": "2021-10-16T15:18:57.417Z"
   },
   {
    "duration": 3,
    "start_time": "2021-10-16T15:28:30.142Z"
   },
   {
    "duration": 3,
    "start_time": "2021-10-16T15:28:32.576Z"
   },
   {
    "duration": 3,
    "start_time": "2021-10-16T15:28:36.773Z"
   },
   {
    "duration": 29,
    "start_time": "2021-10-16T15:29:18.972Z"
   },
   {
    "duration": 2665,
    "start_time": "2021-10-16T15:29:39.467Z"
   },
   {
    "duration": 1848,
    "start_time": "2021-10-16T15:33:36.023Z"
   },
   {
    "duration": 1695,
    "start_time": "2021-10-16T15:33:52.894Z"
   },
   {
    "duration": 1829,
    "start_time": "2021-10-16T15:35:19.996Z"
   },
   {
    "duration": 1846,
    "start_time": "2021-10-16T15:35:39.674Z"
   },
   {
    "duration": 672,
    "start_time": "2021-10-16T15:41:00.483Z"
   },
   {
    "duration": 542,
    "start_time": "2021-10-16T15:41:39.994Z"
   },
   {
    "duration": 539,
    "start_time": "2021-10-16T15:42:44.790Z"
   },
   {
    "duration": 634,
    "start_time": "2021-10-16T15:43:07.995Z"
   },
   {
    "duration": 662,
    "start_time": "2021-10-16T15:43:33.955Z"
   },
   {
    "duration": 524,
    "start_time": "2021-10-16T15:43:43.434Z"
   },
   {
    "duration": 516,
    "start_time": "2021-10-16T15:44:03.347Z"
   },
   {
    "duration": 523,
    "start_time": "2021-10-16T15:44:31.199Z"
   },
   {
    "duration": 533,
    "start_time": "2021-10-16T15:44:50.300Z"
   },
   {
    "duration": 499,
    "start_time": "2021-10-16T15:45:10.116Z"
   },
   {
    "duration": 17,
    "start_time": "2021-10-16T15:49:43.037Z"
   },
   {
    "duration": 9,
    "start_time": "2021-10-16T15:49:45.325Z"
   },
   {
    "duration": 8,
    "start_time": "2021-10-16T15:52:52.155Z"
   },
   {
    "duration": 37,
    "start_time": "2021-10-16T15:55:52.465Z"
   },
   {
    "duration": 32,
    "start_time": "2021-10-16T15:57:16.833Z"
   },
   {
    "duration": 531,
    "start_time": "2021-10-16T16:00:08.999Z"
   },
   {
    "duration": 673,
    "start_time": "2021-10-16T16:00:18.247Z"
   },
   {
    "duration": 360,
    "start_time": "2021-10-17T05:45:41.171Z"
   },
   {
    "duration": 1173,
    "start_time": "2021-10-17T05:45:52.439Z"
   },
   {
    "duration": 180,
    "start_time": "2021-10-17T05:45:53.614Z"
   },
   {
    "duration": 135,
    "start_time": "2021-10-17T05:45:53.797Z"
   },
   {
    "duration": 99,
    "start_time": "2021-10-17T05:45:53.935Z"
   },
   {
    "duration": 27,
    "start_time": "2021-10-17T05:45:54.036Z"
   },
   {
    "duration": 48,
    "start_time": "2021-10-17T05:45:54.065Z"
   },
   {
    "duration": 136,
    "start_time": "2021-10-17T05:45:54.115Z"
   },
   {
    "duration": 297,
    "start_time": "2021-10-17T05:45:54.254Z"
   },
   {
    "duration": 421,
    "start_time": "2021-10-17T05:45:54.553Z"
   },
   {
    "duration": 302,
    "start_time": "2021-10-17T05:45:54.674Z"
   },
   {
    "duration": 303,
    "start_time": "2021-10-17T05:45:54.675Z"
   },
   {
    "duration": 302,
    "start_time": "2021-10-17T05:45:54.677Z"
   },
   {
    "duration": 302,
    "start_time": "2021-10-17T05:45:54.678Z"
   },
   {
    "duration": 302,
    "start_time": "2021-10-17T05:45:54.679Z"
   },
   {
    "duration": 303,
    "start_time": "2021-10-17T05:45:54.680Z"
   },
   {
    "duration": 303,
    "start_time": "2021-10-17T05:45:54.681Z"
   },
   {
    "duration": 302,
    "start_time": "2021-10-17T05:45:54.683Z"
   },
   {
    "duration": 302,
    "start_time": "2021-10-17T05:45:54.684Z"
   },
   {
    "duration": 303,
    "start_time": "2021-10-17T05:45:54.685Z"
   },
   {
    "duration": 300,
    "start_time": "2021-10-17T05:45:54.689Z"
   },
   {
    "duration": 299,
    "start_time": "2021-10-17T05:45:54.691Z"
   },
   {
    "duration": 299,
    "start_time": "2021-10-17T05:45:54.692Z"
   },
   {
    "duration": 300,
    "start_time": "2021-10-17T05:45:54.693Z"
   },
   {
    "duration": 300,
    "start_time": "2021-10-17T05:45:54.694Z"
   },
   {
    "duration": 300,
    "start_time": "2021-10-17T05:45:54.695Z"
   },
   {
    "duration": 300,
    "start_time": "2021-10-17T05:45:54.696Z"
   },
   {
    "duration": 300,
    "start_time": "2021-10-17T05:45:54.697Z"
   },
   {
    "duration": 268,
    "start_time": "2021-10-17T05:45:54.731Z"
   },
   {
    "duration": 267,
    "start_time": "2021-10-17T05:45:54.733Z"
   },
   {
    "duration": 267,
    "start_time": "2021-10-17T05:45:54.734Z"
   },
   {
    "duration": 264,
    "start_time": "2021-10-17T05:45:54.738Z"
   },
   {
    "duration": 264,
    "start_time": "2021-10-17T05:45:54.739Z"
   },
   {
    "duration": 265,
    "start_time": "2021-10-17T05:45:54.740Z"
   },
   {
    "duration": 265,
    "start_time": "2021-10-17T05:45:54.741Z"
   },
   {
    "duration": 331,
    "start_time": "2021-10-17T05:47:06.319Z"
   },
   {
    "duration": 360,
    "start_time": "2021-10-17T05:47:14.547Z"
   },
   {
    "duration": 5,
    "start_time": "2021-10-17T05:47:30.467Z"
   },
   {
    "duration": 3,
    "start_time": "2021-10-17T05:47:57.067Z"
   },
   {
    "duration": 177,
    "start_time": "2021-10-17T05:47:57.086Z"
   },
   {
    "duration": 137,
    "start_time": "2021-10-17T05:47:57.265Z"
   },
   {
    "duration": 95,
    "start_time": "2021-10-17T05:47:57.404Z"
   },
   {
    "duration": 23,
    "start_time": "2021-10-17T05:47:57.501Z"
   },
   {
    "duration": 37,
    "start_time": "2021-10-17T05:47:57.526Z"
   },
   {
    "duration": 133,
    "start_time": "2021-10-17T05:47:57.565Z"
   },
   {
    "duration": 311,
    "start_time": "2021-10-17T05:47:57.700Z"
   },
   {
    "duration": 97,
    "start_time": "2021-10-17T05:47:58.012Z"
   },
   {
    "duration": 368,
    "start_time": "2021-10-17T05:47:58.111Z"
   },
   {
    "duration": 67,
    "start_time": "2021-10-17T05:47:58.481Z"
   },
   {
    "duration": 28,
    "start_time": "2021-10-17T05:47:58.550Z"
   },
   {
    "duration": 47,
    "start_time": "2021-10-17T05:47:58.579Z"
   },
   {
    "duration": 7,
    "start_time": "2021-10-17T05:47:58.628Z"
   },
   {
    "duration": 9,
    "start_time": "2021-10-17T05:47:58.637Z"
   },
   {
    "duration": 35,
    "start_time": "2021-10-17T05:47:58.647Z"
   },
   {
    "duration": 25,
    "start_time": "2021-10-17T05:47:58.684Z"
   },
   {
    "duration": 22,
    "start_time": "2021-10-17T05:47:58.711Z"
   },
   {
    "duration": 1002,
    "start_time": "2021-10-17T05:47:58.734Z"
   },
   {
    "duration": 195,
    "start_time": "2021-10-17T05:47:59.738Z"
   },
   {
    "duration": 18,
    "start_time": "2021-10-17T05:47:59.934Z"
   },
   {
    "duration": 1081,
    "start_time": "2021-10-17T05:47:59.953Z"
   },
   {
    "duration": 300,
    "start_time": "2021-10-17T05:48:01.035Z"
   },
   {
    "duration": 350,
    "start_time": "2021-10-17T05:48:01.336Z"
   },
   {
    "duration": 280,
    "start_time": "2021-10-17T05:48:01.687Z"
   },
   {
    "duration": 318,
    "start_time": "2021-10-17T05:48:01.969Z"
   },
   {
    "duration": 366,
    "start_time": "2021-10-17T05:48:02.288Z"
   },
   {
    "duration": 323,
    "start_time": "2021-10-17T05:48:02.656Z"
   },
   {
    "duration": 12,
    "start_time": "2021-10-17T05:48:02.981Z"
   },
   {
    "duration": 18,
    "start_time": "2021-10-17T05:48:02.995Z"
   },
   {
    "duration": 7,
    "start_time": "2021-10-17T05:48:03.015Z"
   },
   {
    "duration": 24,
    "start_time": "2021-10-17T05:48:03.024Z"
   },
   {
    "duration": 25,
    "start_time": "2021-10-17T05:48:03.050Z"
   },
   {
    "duration": 11,
    "start_time": "2021-10-17T05:48:32.987Z"
   },
   {
    "duration": 332,
    "start_time": "2021-10-17T05:50:10.162Z"
   },
   {
    "duration": 5,
    "start_time": "2021-10-17T05:50:23.251Z"
   },
   {
    "duration": 3,
    "start_time": "2021-10-17T05:50:36.555Z"
   },
   {
    "duration": 20,
    "start_time": "2021-10-17T05:51:43.119Z"
   },
   {
    "duration": 291,
    "start_time": "2021-10-17T05:52:50.395Z"
   },
   {
    "duration": 292,
    "start_time": "2021-10-17T05:53:14.571Z"
   },
   {
    "duration": 376,
    "start_time": "2021-10-17T05:53:27.132Z"
   },
   {
    "duration": 304,
    "start_time": "2021-10-17T05:53:33.491Z"
   },
   {
    "duration": 304,
    "start_time": "2021-10-17T05:53:39.475Z"
   },
   {
    "duration": 8,
    "start_time": "2021-10-17T05:56:11.667Z"
   },
   {
    "duration": 348,
    "start_time": "2021-10-17T05:57:07.355Z"
   },
   {
    "duration": 11,
    "start_time": "2021-10-17T05:57:25.279Z"
   },
   {
    "duration": 10,
    "start_time": "2021-10-17T05:57:45.547Z"
   },
   {
    "duration": 27,
    "start_time": "2021-10-17T05:59:41.115Z"
   },
   {
    "duration": 10,
    "start_time": "2021-10-17T05:59:47.988Z"
   },
   {
    "duration": 27,
    "start_time": "2021-10-17T06:00:03.764Z"
   },
   {
    "duration": 123,
    "start_time": "2021-10-17T06:00:25.384Z"
   },
   {
    "duration": 26,
    "start_time": "2021-10-17T06:00:31.728Z"
   },
   {
    "duration": 27,
    "start_time": "2021-10-17T06:01:24.676Z"
   },
   {
    "duration": 2,
    "start_time": "2021-10-17T06:04:23.873Z"
   },
   {
    "duration": 2,
    "start_time": "2021-10-17T06:04:26.793Z"
   },
   {
    "duration": 345,
    "start_time": "2021-10-17T06:10:07.837Z"
   },
   {
    "duration": 327,
    "start_time": "2021-10-17T06:10:31.681Z"
   },
   {
    "duration": 108,
    "start_time": "2021-10-17T06:11:09.064Z"
   },
   {
    "duration": 388,
    "start_time": "2021-10-17T06:13:43.685Z"
   },
   {
    "duration": 119,
    "start_time": "2021-10-17T06:16:45.205Z"
   },
   {
    "duration": 122,
    "start_time": "2021-10-17T07:00:01.563Z"
   },
   {
    "duration": 114,
    "start_time": "2021-10-17T07:00:16.111Z"
   },
   {
    "duration": 338,
    "start_time": "2021-10-17T07:00:54.069Z"
   },
   {
    "duration": 115,
    "start_time": "2021-10-17T07:09:38.635Z"
   },
   {
    "duration": 337,
    "start_time": "2021-10-17T07:09:44.512Z"
   },
   {
    "duration": 6382,
    "start_time": "2021-10-17T11:09:41.703Z"
   },
   {
    "duration": 3684,
    "start_time": "2021-10-17T11:10:08.500Z"
   },
   {
    "duration": 273,
    "start_time": "2021-10-17T11:10:12.188Z"
   },
   {
    "duration": 196,
    "start_time": "2021-10-17T11:10:12.464Z"
   },
   {
    "duration": 141,
    "start_time": "2021-10-17T11:10:12.663Z"
   },
   {
    "duration": 31,
    "start_time": "2021-10-17T11:10:12.806Z"
   },
   {
    "duration": 48,
    "start_time": "2021-10-17T11:10:12.840Z"
   },
   {
    "duration": 265,
    "start_time": "2021-10-17T11:10:12.891Z"
   },
   {
    "duration": 570,
    "start_time": "2021-10-17T11:10:13.162Z"
   },
   {
    "duration": 148,
    "start_time": "2021-10-17T11:10:13.735Z"
   },
   {
    "duration": 559,
    "start_time": "2021-10-17T11:10:13.885Z"
   },
   {
    "duration": 118,
    "start_time": "2021-10-17T11:10:14.446Z"
   },
   {
    "duration": 626,
    "start_time": "2021-10-17T11:10:14.567Z"
   },
   {
    "duration": 153,
    "start_time": "2021-10-17T11:10:15.196Z"
   },
   {
    "duration": 12,
    "start_time": "2021-10-17T11:10:15.352Z"
   },
   {
    "duration": 15,
    "start_time": "2021-10-17T11:10:15.366Z"
   },
   {
    "duration": 113,
    "start_time": "2021-10-17T11:10:15.401Z"
   },
   {
    "duration": 149,
    "start_time": "2021-10-17T11:10:15.368Z"
   },
   {
    "duration": 144,
    "start_time": "2021-10-17T11:10:15.374Z"
   },
   {
    "duration": 145,
    "start_time": "2021-10-17T11:10:15.375Z"
   },
   {
    "duration": 136,
    "start_time": "2021-10-17T11:10:15.385Z"
   },
   {
    "duration": 136,
    "start_time": "2021-10-17T11:10:15.387Z"
   },
   {
    "duration": 136,
    "start_time": "2021-10-17T11:10:15.389Z"
   },
   {
    "duration": 136,
    "start_time": "2021-10-17T11:10:15.390Z"
   },
   {
    "duration": 135,
    "start_time": "2021-10-17T11:10:15.393Z"
   },
   {
    "duration": 135,
    "start_time": "2021-10-17T11:10:15.394Z"
   },
   {
    "duration": 136,
    "start_time": "2021-10-17T11:10:15.395Z"
   },
   {
    "duration": 124,
    "start_time": "2021-10-17T11:10:15.408Z"
   },
   {
    "duration": 126,
    "start_time": "2021-10-17T11:10:15.408Z"
   },
   {
    "duration": 124,
    "start_time": "2021-10-17T11:10:15.411Z"
   },
   {
    "duration": 126,
    "start_time": "2021-10-17T11:10:15.411Z"
   },
   {
    "duration": 125,
    "start_time": "2021-10-17T11:10:15.415Z"
   },
   {
    "duration": 125,
    "start_time": "2021-10-17T11:10:15.416Z"
   },
   {
    "duration": 127,
    "start_time": "2021-10-17T11:10:15.416Z"
   },
   {
    "duration": 123,
    "start_time": "2021-10-17T11:10:15.421Z"
   },
   {
    "duration": 124,
    "start_time": "2021-10-17T11:10:15.422Z"
   },
   {
    "duration": 14,
    "start_time": "2021-10-17T11:11:41.022Z"
   },
   {
    "duration": 660,
    "start_time": "2021-10-17T11:11:41.038Z"
   },
   {
    "duration": 119,
    "start_time": "2021-10-17T11:11:41.583Z"
   },
   {
    "duration": 119,
    "start_time": "2021-10-17T11:11:41.584Z"
   },
   {
    "duration": 118,
    "start_time": "2021-10-17T11:11:41.587Z"
   },
   {
    "duration": 46,
    "start_time": "2021-10-17T11:11:41.660Z"
   },
   {
    "duration": 46,
    "start_time": "2021-10-17T11:11:41.662Z"
   },
   {
    "duration": 46,
    "start_time": "2021-10-17T11:11:41.663Z"
   },
   {
    "duration": 46,
    "start_time": "2021-10-17T11:11:41.665Z"
   },
   {
    "duration": 46,
    "start_time": "2021-10-17T11:11:41.666Z"
   },
   {
    "duration": 47,
    "start_time": "2021-10-17T11:11:41.667Z"
   },
   {
    "duration": 46,
    "start_time": "2021-10-17T11:11:41.669Z"
   },
   {
    "duration": 45,
    "start_time": "2021-10-17T11:11:41.671Z"
   },
   {
    "duration": 29,
    "start_time": "2021-10-17T11:11:41.689Z"
   },
   {
    "duration": 28,
    "start_time": "2021-10-17T11:11:41.691Z"
   },
   {
    "duration": 29,
    "start_time": "2021-10-17T11:11:41.692Z"
   },
   {
    "duration": 28,
    "start_time": "2021-10-17T11:11:41.694Z"
   },
   {
    "duration": 28,
    "start_time": "2021-10-17T11:11:41.695Z"
   },
   {
    "duration": 29,
    "start_time": "2021-10-17T11:11:41.696Z"
   },
   {
    "duration": 27,
    "start_time": "2021-10-17T11:11:41.699Z"
   },
   {
    "duration": 13,
    "start_time": "2021-10-17T11:12:34.003Z"
   },
   {
    "duration": 17,
    "start_time": "2021-10-17T11:12:34.019Z"
   },
   {
    "duration": 66,
    "start_time": "2021-10-17T11:12:34.039Z"
   },
   {
    "duration": 34,
    "start_time": "2021-10-17T11:12:34.107Z"
   },
   {
    "duration": 1870,
    "start_time": "2021-10-17T11:12:34.143Z"
   },
   {
    "duration": 364,
    "start_time": "2021-10-17T11:12:36.018Z"
   },
   {
    "duration": 40,
    "start_time": "2021-10-17T11:12:36.386Z"
   },
   {
    "duration": 353,
    "start_time": "2021-10-17T11:12:36.429Z"
   },
   {
    "duration": 132,
    "start_time": "2021-10-17T11:12:36.652Z"
   },
   {
    "duration": 130,
    "start_time": "2021-10-17T11:12:36.656Z"
   },
   {
    "duration": 129,
    "start_time": "2021-10-17T11:12:36.658Z"
   },
   {
    "duration": 129,
    "start_time": "2021-10-17T11:12:36.659Z"
   },
   {
    "duration": 90,
    "start_time": "2021-10-17T11:12:36.699Z"
   },
   {
    "duration": 91,
    "start_time": "2021-10-17T11:12:36.700Z"
   },
   {
    "duration": 91,
    "start_time": "2021-10-17T11:12:36.701Z"
   },
   {
    "duration": 91,
    "start_time": "2021-10-17T11:12:36.702Z"
   },
   {
    "duration": 92,
    "start_time": "2021-10-17T11:12:36.703Z"
   },
   {
    "duration": 92,
    "start_time": "2021-10-17T11:12:36.704Z"
   },
   {
    "duration": 92,
    "start_time": "2021-10-17T11:12:36.705Z"
   },
   {
    "duration": 93,
    "start_time": "2021-10-17T11:12:36.706Z"
   },
   {
    "duration": 321,
    "start_time": "2021-10-17T11:12:59.543Z"
   },
   {
    "duration": 3474,
    "start_time": "2021-10-17T11:13:44.224Z"
   },
   {
    "duration": 319,
    "start_time": "2021-10-17T11:14:47.561Z"
   },
   {
    "duration": 5400,
    "start_time": "2021-10-17T11:15:24.279Z"
   },
   {
    "duration": 269,
    "start_time": "2021-10-17T11:15:29.682Z"
   },
   {
    "duration": 207,
    "start_time": "2021-10-17T11:15:29.955Z"
   },
   {
    "duration": 146,
    "start_time": "2021-10-17T11:15:30.165Z"
   },
   {
    "duration": 34,
    "start_time": "2021-10-17T11:15:30.314Z"
   },
   {
    "duration": 46,
    "start_time": "2021-10-17T11:15:30.351Z"
   },
   {
    "duration": 275,
    "start_time": "2021-10-17T11:15:30.400Z"
   },
   {
    "duration": 567,
    "start_time": "2021-10-17T11:15:30.677Z"
   },
   {
    "duration": 153,
    "start_time": "2021-10-17T11:15:31.249Z"
   },
   {
    "duration": 553,
    "start_time": "2021-10-17T11:15:31.405Z"
   },
   {
    "duration": 121,
    "start_time": "2021-10-17T11:15:31.960Z"
   },
   {
    "duration": 579,
    "start_time": "2021-10-17T11:15:32.084Z"
   },
   {
    "duration": 90,
    "start_time": "2021-10-17T11:15:32.666Z"
   },
   {
    "duration": 13,
    "start_time": "2021-10-17T11:15:32.759Z"
   },
   {
    "duration": 27,
    "start_time": "2021-10-17T11:15:32.775Z"
   },
   {
    "duration": 23,
    "start_time": "2021-10-17T11:15:32.804Z"
   },
   {
    "duration": 78,
    "start_time": "2021-10-17T11:15:32.831Z"
   },
   {
    "duration": 33,
    "start_time": "2021-10-17T11:15:32.911Z"
   },
   {
    "duration": 1885,
    "start_time": "2021-10-17T11:15:32.946Z"
   },
   {
    "duration": 354,
    "start_time": "2021-10-17T11:15:34.834Z"
   },
   {
    "duration": 35,
    "start_time": "2021-10-17T11:15:35.191Z"
   },
   {
    "duration": 550,
    "start_time": "2021-10-17T11:15:35.229Z"
   },
   {
    "duration": 2026,
    "start_time": "2021-10-17T11:15:35.781Z"
   },
   {
    "duration": 582,
    "start_time": "2021-10-17T11:15:37.809Z"
   },
   {
    "duration": 714,
    "start_time": "2021-10-17T11:15:38.393Z"
   },
   {
    "duration": 524,
    "start_time": "2021-10-17T11:15:39.110Z"
   },
   {
    "duration": 762,
    "start_time": "2021-10-17T11:15:39.641Z"
   },
   {
    "duration": 645,
    "start_time": "2021-10-17T11:15:40.405Z"
   },
   {
    "duration": 689,
    "start_time": "2021-10-17T11:15:41.052Z"
   },
   {
    "duration": 20,
    "start_time": "2021-10-17T11:15:41.743Z"
   },
   {
    "duration": 10,
    "start_time": "2021-10-17T11:15:41.766Z"
   },
   {
    "duration": 9,
    "start_time": "2021-10-17T11:15:41.801Z"
   },
   {
    "duration": 31,
    "start_time": "2021-10-17T11:15:41.813Z"
   },
   {
    "duration": 61,
    "start_time": "2021-10-17T11:15:41.846Z"
   },
   {
    "duration": 991,
    "start_time": "2021-10-17T11:16:22.998Z"
   },
   {
    "duration": 522,
    "start_time": "2021-10-17T11:16:47.284Z"
   },
   {
    "duration": 103,
    "start_time": "2021-10-17T11:17:56.035Z"
   },
   {
    "duration": 1990,
    "start_time": "2021-10-17T11:18:03.988Z"
   },
   {
    "duration": 740,
    "start_time": "2021-10-17T11:18:13.272Z"
   },
   {
    "duration": 596,
    "start_time": "2021-10-17T11:18:21.516Z"
   },
   {
    "duration": 601,
    "start_time": "2021-10-17T11:19:02.326Z"
   },
   {
    "duration": 555,
    "start_time": "2021-10-17T11:19:18.116Z"
   },
   {
    "duration": 99,
    "start_time": "2021-10-17T11:25:22.005Z"
   },
   {
    "duration": 514,
    "start_time": "2021-10-17T11:25:36.489Z"
   },
   {
    "duration": 1476,
    "start_time": "2021-10-17T11:27:28.382Z"
   },
   {
    "duration": 725,
    "start_time": "2021-10-17T11:28:01.488Z"
   },
   {
    "duration": 6,
    "start_time": "2021-10-17T11:28:53.313Z"
   },
   {
    "duration": 604,
    "start_time": "2021-10-17T11:28:55.646Z"
   },
   {
    "duration": 636,
    "start_time": "2021-10-17T11:29:11.715Z"
   },
   {
    "duration": 714,
    "start_time": "2021-10-17T11:29:41.508Z"
   },
   {
    "duration": 668,
    "start_time": "2021-10-17T11:30:08.683Z"
   },
   {
    "duration": 657,
    "start_time": "2021-10-17T11:30:20.749Z"
   },
   {
    "duration": 604,
    "start_time": "2021-10-17T11:30:26.211Z"
   },
   {
    "duration": 735,
    "start_time": "2021-10-17T11:35:33.838Z"
   },
   {
    "duration": 578,
    "start_time": "2021-10-17T11:35:41.105Z"
   },
   {
    "duration": 6526,
    "start_time": "2021-10-17T16:21:17.314Z"
   },
   {
    "duration": 260,
    "start_time": "2021-10-17T16:21:23.842Z"
   },
   {
    "duration": 190,
    "start_time": "2021-10-17T16:21:24.105Z"
   },
   {
    "duration": 135,
    "start_time": "2021-10-17T16:21:24.298Z"
   },
   {
    "duration": 29,
    "start_time": "2021-10-17T16:21:24.435Z"
   },
   {
    "duration": 43,
    "start_time": "2021-10-17T16:21:24.482Z"
   },
   {
    "duration": 260,
    "start_time": "2021-10-17T16:21:24.528Z"
   },
   {
    "duration": 537,
    "start_time": "2021-10-17T16:21:24.793Z"
   },
   {
    "duration": 149,
    "start_time": "2021-10-17T16:21:25.333Z"
   },
   {
    "duration": 537,
    "start_time": "2021-10-17T16:21:25.484Z"
   },
   {
    "duration": 119,
    "start_time": "2021-10-17T16:21:26.024Z"
   },
   {
    "duration": 574,
    "start_time": "2021-10-17T16:21:26.146Z"
   },
   {
    "duration": 83,
    "start_time": "2021-10-17T16:21:26.723Z"
   },
   {
    "duration": 12,
    "start_time": "2021-10-17T16:21:26.808Z"
   },
   {
    "duration": 17,
    "start_time": "2021-10-17T16:21:26.822Z"
   },
   {
    "duration": 47,
    "start_time": "2021-10-17T16:21:26.841Z"
   },
   {
    "duration": 45,
    "start_time": "2021-10-17T16:21:26.891Z"
   },
   {
    "duration": 69,
    "start_time": "2021-10-17T16:21:26.938Z"
   },
   {
    "duration": 5,
    "start_time": "2021-10-17T16:21:27.010Z"
   },
   {
    "duration": 708,
    "start_time": "2021-10-17T16:21:27.017Z"
   },
   {
    "duration": 1122,
    "start_time": "2021-10-17T16:21:27.729Z"
   },
   {
    "duration": 1087,
    "start_time": "2021-10-17T16:21:28.853Z"
   },
   {
    "duration": 560,
    "start_time": "2021-10-17T16:21:29.948Z"
   },
   {
    "duration": 49,
    "start_time": "2021-10-17T16:21:30.512Z"
   },
   {
    "duration": 667,
    "start_time": "2021-10-17T16:21:30.583Z"
   },
   {
    "duration": 660,
    "start_time": "2021-10-17T16:21:31.252Z"
   },
   {
    "duration": 1002,
    "start_time": "2021-10-17T16:21:31.914Z"
   },
   {
    "duration": 638,
    "start_time": "2021-10-17T16:21:32.919Z"
   },
   {
    "duration": 1091,
    "start_time": "2021-10-17T16:21:33.560Z"
   },
   {
    "duration": 864,
    "start_time": "2021-10-17T16:21:34.655Z"
   },
   {
    "duration": 1010,
    "start_time": "2021-10-17T16:21:35.522Z"
   },
   {
    "duration": 911,
    "start_time": "2021-10-17T16:21:36.536Z"
   },
   {
    "duration": 1038,
    "start_time": "2021-10-17T16:21:37.451Z"
   },
   {
    "duration": 19,
    "start_time": "2021-10-17T16:21:38.492Z"
   },
   {
    "duration": 10,
    "start_time": "2021-10-17T16:21:38.514Z"
   },
   {
    "duration": 13,
    "start_time": "2021-10-17T16:21:38.526Z"
   },
   {
    "duration": 81,
    "start_time": "2021-10-17T16:21:38.542Z"
   },
   {
    "duration": 42,
    "start_time": "2021-10-17T16:21:38.626Z"
   },
   {
    "duration": 37,
    "start_time": "2021-10-17T16:28:43.569Z"
   },
   {
    "duration": 148,
    "start_time": "2021-10-17T16:29:01.663Z"
   },
   {
    "duration": 98,
    "start_time": "2021-10-17T16:35:10.231Z"
   },
   {
    "duration": 271,
    "start_time": "2021-10-18T06:03:42.542Z"
   },
   {
    "duration": 6018,
    "start_time": "2021-10-18T06:03:50.393Z"
   },
   {
    "duration": 264,
    "start_time": "2021-10-18T06:03:56.413Z"
   },
   {
    "duration": 207,
    "start_time": "2021-10-18T06:03:56.680Z"
   },
   {
    "duration": 143,
    "start_time": "2021-10-18T06:03:56.889Z"
   },
   {
    "duration": 33,
    "start_time": "2021-10-18T06:03:57.034Z"
   },
   {
    "duration": 67,
    "start_time": "2021-10-18T06:03:57.069Z"
   },
   {
    "duration": 266,
    "start_time": "2021-10-18T06:03:57.139Z"
   },
   {
    "duration": 549,
    "start_time": "2021-10-18T06:03:57.409Z"
   },
   {
    "duration": 144,
    "start_time": "2021-10-18T06:03:57.968Z"
   },
   {
    "duration": 572,
    "start_time": "2021-10-18T06:03:58.116Z"
   },
   {
    "duration": 122,
    "start_time": "2021-10-18T06:03:58.691Z"
   },
   {
    "duration": 569,
    "start_time": "2021-10-18T06:03:58.816Z"
   },
   {
    "duration": 92,
    "start_time": "2021-10-18T06:03:59.388Z"
   },
   {
    "duration": 12,
    "start_time": "2021-10-18T06:03:59.484Z"
   },
   {
    "duration": 14,
    "start_time": "2021-10-18T06:03:59.499Z"
   },
   {
    "duration": 54,
    "start_time": "2021-10-18T06:03:59.516Z"
   },
   {
    "duration": 45,
    "start_time": "2021-10-18T06:03:59.573Z"
   },
   {
    "duration": 63,
    "start_time": "2021-10-18T06:03:59.621Z"
   },
   {
    "duration": 7,
    "start_time": "2021-10-18T06:03:59.686Z"
   },
   {
    "duration": 704,
    "start_time": "2021-10-18T06:03:59.695Z"
   },
   {
    "duration": 660,
    "start_time": "2021-10-18T06:04:00.402Z"
   },
   {
    "duration": 640,
    "start_time": "2021-10-18T06:04:01.067Z"
   },
   {
    "duration": 350,
    "start_time": "2021-10-18T06:04:01.712Z"
   },
   {
    "duration": 30,
    "start_time": "2021-10-18T06:04:02.064Z"
   },
   {
    "duration": 637,
    "start_time": "2021-10-18T06:04:02.096Z"
   },
   {
    "duration": 608,
    "start_time": "2021-10-18T06:04:02.735Z"
   },
   {
    "duration": 641,
    "start_time": "2021-10-18T06:04:03.345Z"
   },
   {
    "duration": 620,
    "start_time": "2021-10-18T06:04:03.989Z"
   },
   {
    "duration": 758,
    "start_time": "2021-10-18T06:04:04.612Z"
   },
   {
    "duration": 608,
    "start_time": "2021-10-18T06:04:05.373Z"
   },
   {
    "duration": 648,
    "start_time": "2021-10-18T06:04:05.983Z"
   },
   {
    "duration": 549,
    "start_time": "2021-10-18T06:04:06.633Z"
   },
   {
    "duration": 623,
    "start_time": "2021-10-18T06:04:07.185Z"
   },
   {
    "duration": 20,
    "start_time": "2021-10-18T06:04:07.811Z"
   },
   {
    "duration": 9,
    "start_time": "2021-10-18T06:04:07.834Z"
   },
   {
    "duration": 11,
    "start_time": "2021-10-18T06:04:07.868Z"
   },
   {
    "duration": 31,
    "start_time": "2021-10-18T06:04:07.882Z"
   },
   {
    "duration": 74,
    "start_time": "2021-10-18T06:04:07.916Z"
   },
   {
    "duration": 655,
    "start_time": "2021-10-18T06:10:52.654Z"
   },
   {
    "duration": 660,
    "start_time": "2021-10-18T06:11:01.469Z"
   },
   {
    "duration": 639,
    "start_time": "2021-10-18T06:11:06.610Z"
   },
   {
    "duration": 100,
    "start_time": "2021-10-18T06:13:05.581Z"
   },
   {
    "duration": 78,
    "start_time": "2021-10-18T09:51:25.752Z"
   },
   {
    "duration": 61,
    "start_time": "2021-10-18T09:59:58.153Z"
   },
   {
    "duration": 4521,
    "start_time": "2021-10-18T11:51:44.390Z"
   },
   {
    "duration": 192,
    "start_time": "2021-10-18T11:51:48.913Z"
   },
   {
    "duration": 145,
    "start_time": "2021-10-18T11:51:49.107Z"
   },
   {
    "duration": 109,
    "start_time": "2021-10-18T11:51:49.255Z"
   },
   {
    "duration": 26,
    "start_time": "2021-10-18T11:51:49.365Z"
   },
   {
    "duration": 43,
    "start_time": "2021-10-18T11:51:49.393Z"
   },
   {
    "duration": 161,
    "start_time": "2021-10-18T11:51:49.438Z"
   },
   {
    "duration": 356,
    "start_time": "2021-10-18T11:51:49.601Z"
   },
   {
    "duration": 113,
    "start_time": "2021-10-18T11:51:49.959Z"
   },
   {
    "duration": 377,
    "start_time": "2021-10-18T11:51:50.074Z"
   },
   {
    "duration": 79,
    "start_time": "2021-10-18T11:51:50.453Z"
   },
   {
    "duration": 370,
    "start_time": "2021-10-18T11:51:50.535Z"
   },
   {
    "duration": 50,
    "start_time": "2021-10-18T11:51:50.908Z"
   },
   {
    "duration": 8,
    "start_time": "2021-10-18T11:51:50.960Z"
   },
   {
    "duration": 30,
    "start_time": "2021-10-18T11:51:50.970Z"
   },
   {
    "duration": 11,
    "start_time": "2021-10-18T11:51:51.002Z"
   },
   {
    "duration": 29,
    "start_time": "2021-10-18T11:51:51.015Z"
   },
   {
    "duration": 56,
    "start_time": "2021-10-18T11:51:51.046Z"
   },
   {
    "duration": 4,
    "start_time": "2021-10-18T11:51:51.104Z"
   },
   {
    "duration": 450,
    "start_time": "2021-10-18T11:51:51.110Z"
   },
   {
    "duration": 396,
    "start_time": "2021-10-18T11:51:51.563Z"
   },
   {
    "duration": 393,
    "start_time": "2021-10-18T11:51:51.961Z"
   },
   {
    "duration": 196,
    "start_time": "2021-10-18T11:51:52.356Z"
   },
   {
    "duration": 18,
    "start_time": "2021-10-18T11:51:52.554Z"
   },
   {
    "duration": 392,
    "start_time": "2021-10-18T11:51:52.574Z"
   },
   {
    "duration": 400,
    "start_time": "2021-10-18T11:51:52.968Z"
   },
   {
    "duration": 372,
    "start_time": "2021-10-18T11:51:53.371Z"
   },
   {
    "duration": 407,
    "start_time": "2021-10-18T11:51:53.745Z"
   },
   {
    "duration": 479,
    "start_time": "2021-10-18T11:51:54.154Z"
   },
   {
    "duration": 323,
    "start_time": "2021-10-18T11:51:54.634Z"
   },
   {
    "duration": 439,
    "start_time": "2021-10-18T11:51:54.959Z"
   },
   {
    "duration": 335,
    "start_time": "2021-10-18T11:51:55.400Z"
   },
   {
    "duration": 440,
    "start_time": "2021-10-18T11:51:55.737Z"
   },
   {
    "duration": 2,
    "start_time": "2021-10-18T11:51:56.179Z"
   },
   {
    "duration": 22,
    "start_time": "2021-10-18T11:51:56.182Z"
   },
   {
    "duration": 6,
    "start_time": "2021-10-18T11:51:56.206Z"
   },
   {
    "duration": 14,
    "start_time": "2021-10-18T11:51:56.214Z"
   },
   {
    "duration": 24,
    "start_time": "2021-10-18T11:51:56.230Z"
   },
   {
    "duration": 55,
    "start_time": "2021-10-18T11:51:56.255Z"
   },
   {
    "duration": 404,
    "start_time": "2021-10-18T12:13:45.089Z"
   },
   {
    "duration": 397,
    "start_time": "2021-10-18T12:18:38.488Z"
   },
   {
    "duration": 418,
    "start_time": "2021-10-18T12:19:18.677Z"
   },
   {
    "duration": 394,
    "start_time": "2021-10-18T12:21:36.110Z"
   },
   {
    "duration": 63,
    "start_time": "2021-10-18T12:24:13.852Z"
   },
   {
    "duration": 5166,
    "start_time": "2021-10-18T14:25:34.176Z"
   },
   {
    "duration": 222,
    "start_time": "2021-10-18T14:25:39.344Z"
   },
   {
    "duration": 162,
    "start_time": "2021-10-18T14:25:39.570Z"
   },
   {
    "duration": 116,
    "start_time": "2021-10-18T14:25:39.735Z"
   },
   {
    "duration": 30,
    "start_time": "2021-10-18T14:25:39.853Z"
   },
   {
    "duration": 39,
    "start_time": "2021-10-18T14:25:39.885Z"
   },
   {
    "duration": 182,
    "start_time": "2021-10-18T14:25:39.926Z"
   },
   {
    "duration": 346,
    "start_time": "2021-10-18T14:25:40.110Z"
   },
   {
    "duration": 121,
    "start_time": "2021-10-18T14:25:40.458Z"
   },
   {
    "duration": 352,
    "start_time": "2021-10-18T14:25:40.580Z"
   },
   {
    "duration": 91,
    "start_time": "2021-10-18T14:25:40.933Z"
   },
   {
    "duration": 368,
    "start_time": "2021-10-18T14:25:41.026Z"
   },
   {
    "duration": 51,
    "start_time": "2021-10-18T14:25:41.396Z"
   },
   {
    "duration": 26,
    "start_time": "2021-10-18T14:25:41.449Z"
   },
   {
    "duration": 10,
    "start_time": "2021-10-18T14:25:41.479Z"
   },
   {
    "duration": 27,
    "start_time": "2021-10-18T14:25:41.491Z"
   },
   {
    "duration": 51,
    "start_time": "2021-10-18T14:25:41.520Z"
   },
   {
    "duration": 28,
    "start_time": "2021-10-18T14:25:41.573Z"
   },
   {
    "duration": 3,
    "start_time": "2021-10-18T14:25:41.603Z"
   },
   {
    "duration": 485,
    "start_time": "2021-10-18T14:25:41.608Z"
   },
   {
    "duration": 430,
    "start_time": "2021-10-18T14:25:42.095Z"
   },
   {
    "duration": 401,
    "start_time": "2021-10-18T14:25:42.527Z"
   },
   {
    "duration": 236,
    "start_time": "2021-10-18T14:25:42.931Z"
   },
   {
    "duration": 37,
    "start_time": "2021-10-18T14:25:43.170Z"
   },
   {
    "duration": 423,
    "start_time": "2021-10-18T14:25:43.209Z"
   },
   {
    "duration": 414,
    "start_time": "2021-10-18T14:25:43.634Z"
   },
   {
    "duration": 423,
    "start_time": "2021-10-18T14:25:44.050Z"
   },
   {
    "duration": 451,
    "start_time": "2021-10-18T14:25:44.475Z"
   },
   {
    "duration": 501,
    "start_time": "2021-10-18T14:25:44.928Z"
   },
   {
    "duration": 350,
    "start_time": "2021-10-18T14:25:45.430Z"
   },
   {
    "duration": 475,
    "start_time": "2021-10-18T14:25:45.782Z"
   },
   {
    "duration": 352,
    "start_time": "2021-10-18T14:25:46.259Z"
   },
   {
    "duration": 443,
    "start_time": "2021-10-18T14:25:46.612Z"
   },
   {
    "duration": 533,
    "start_time": "2021-10-18T14:25:47.056Z"
   },
   {
    "duration": 15,
    "start_time": "2021-10-18T14:25:47.591Z"
   },
   {
    "duration": 7,
    "start_time": "2021-10-18T14:25:47.608Z"
   },
   {
    "duration": 10,
    "start_time": "2021-10-18T14:25:47.618Z"
   },
   {
    "duration": 58,
    "start_time": "2021-10-18T14:25:47.630Z"
   },
   {
    "duration": 24,
    "start_time": "2021-10-18T14:25:47.689Z"
   },
   {
    "duration": 1030,
    "start_time": "2021-10-18T14:32:23.483Z"
   },
   {
    "duration": 1158,
    "start_time": "2021-10-18T14:33:00.129Z"
   },
   {
    "duration": 1017,
    "start_time": "2021-10-18T14:33:21.489Z"
   },
   {
    "duration": 1086,
    "start_time": "2021-10-18T14:33:30.269Z"
   },
   {
    "duration": 345,
    "start_time": "2021-10-18T14:34:37.802Z"
   },
   {
    "duration": 403,
    "start_time": "2021-10-18T19:44:43.858Z"
   },
   {
    "duration": 5223,
    "start_time": "2021-10-18T19:44:47.982Z"
   },
   {
    "duration": 186,
    "start_time": "2021-10-18T19:44:53.207Z"
   },
   {
    "duration": 141,
    "start_time": "2021-10-18T19:44:53.395Z"
   },
   {
    "duration": 100,
    "start_time": "2021-10-18T19:44:53.538Z"
   },
   {
    "duration": 23,
    "start_time": "2021-10-18T19:44:53.639Z"
   },
   {
    "duration": 35,
    "start_time": "2021-10-18T19:44:53.663Z"
   },
   {
    "duration": 3,
    "start_time": "2021-10-18T19:45:13.510Z"
   },
   {
    "duration": 3,
    "start_time": "2021-10-18T19:45:28.490Z"
   },
   {
    "duration": 276,
    "start_time": "2021-10-18T19:45:33.144Z"
   },
   {
    "duration": 346,
    "start_time": "2021-10-18T19:45:41.652Z"
   },
   {
    "duration": 8,
    "start_time": "2021-10-18T19:46:10.503Z"
   },
   {
    "duration": 3,
    "start_time": "2021-10-18T19:46:23.054Z"
   },
   {
    "duration": 8,
    "start_time": "2021-10-18T19:46:27.280Z"
   },
   {
    "duration": 8,
    "start_time": "2021-10-18T19:46:40.592Z"
   },
   {
    "duration": 5,
    "start_time": "2021-10-18T19:47:02.492Z"
   },
   {
    "duration": 8,
    "start_time": "2021-10-18T19:47:30.733Z"
   },
   {
    "duration": 5,
    "start_time": "2021-10-18T19:47:38.592Z"
   },
   {
    "duration": 7,
    "start_time": "2021-10-18T19:50:20.825Z"
   },
   {
    "duration": 287,
    "start_time": "2021-10-18T19:52:02.990Z"
   },
   {
    "duration": 9,
    "start_time": "2021-10-18T19:52:06.881Z"
   },
   {
    "duration": 221,
    "start_time": "2021-10-18T19:52:07.900Z"
   },
   {
    "duration": 7,
    "start_time": "2021-10-18T19:52:18.710Z"
   }
  ],
  "kernelspec": {
   "display_name": "Python 3",
   "language": "python",
   "name": "python3"
  },
  "language_info": {
   "codemirror_mode": {
    "name": "ipython",
    "version": 3
   },
   "file_extension": ".py",
   "mimetype": "text/x-python",
   "name": "python",
   "nbconvert_exporter": "python",
   "pygments_lexer": "ipython3",
   "version": "3.8.5"
  },
  "toc": {
   "base_numbering": 1,
   "nav_menu": {},
   "number_sections": true,
   "sideBar": true,
   "skip_h1_title": true,
   "title_cell": "Table of Contents",
   "title_sidebar": "Contents",
   "toc_cell": false,
   "toc_position": {},
   "toc_section_display": true,
   "toc_window_display": false
  }
 },
 "nbformat": 4,
 "nbformat_minor": 2
}
